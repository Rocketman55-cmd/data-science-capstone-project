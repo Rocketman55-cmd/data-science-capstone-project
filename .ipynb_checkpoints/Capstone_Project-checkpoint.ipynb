{
 "cells": [
  {
   "cell_type": "markdown",
   "metadata": {},
   "source": [
    "# 1. Business Understanding "
   ]
  },
  {
   "cell_type": "markdown",
   "metadata": {},
   "source": [
    "I decided to explore the Obesity Rate Among Adults Dataset from 1975 - 2016 collected by the World Health Organization. With the ongoing Coronavirus pandemic, the CDC lists obesity as a risk factor for the virus. Obesity is a medical condition that is characterized by excess body fat and a BMI of 30+. Obesity is the leading preventable cause of death in the world. Obesity is a worldwide disease that is prevalent in children and adults and I wanted to see the correlation between year, location, and sex. I downloaded the dataset from Kaggle. I will answer five questions from this dataset.\n",
    "\n",
    "They are the following:\n",
    "\n",
    "1. Which country has the highest obesity rate in the world and in what year for males? For females? For both sexes? Which       country has the lowest obesity rate in the world and in what year for males? For females? For both sexes?\n",
    "\n",
    "2. Which five different countries have the highest obesity rates in the world and in what year for males? For females? For both sexes? Which five different countries have the lowest obesity rates in the world and in what year for males? For females? For both sexes?\n",
    "\n",
    "3. What are the top five years in obesity rates in South America for males? For females? For both sexes? What are the bottom five years in obesity rates in South America for males? For females? For both sexes?\n",
    "\n",
    "4. What are the percentage breakdowns in average obesity rates for each continent for males in 2016? For females? For both sexes?\n",
    "\n",
    "5. From 1975 - 2016, what are the worldwide trends in obesity rates for males, females, and both sexes?"
   ]
  },
  {
   "cell_type": "markdown",
   "metadata": {},
   "source": [
    "# 2. Data Understanding"
   ]
  },
  {
   "cell_type": "code",
   "execution_count": 1,
   "metadata": {},
   "outputs": [],
   "source": [
    "# Import libraries\n",
    "import numpy as np\n",
    "import pandas as pd\n",
    "import matplotlib.pyplot as plt\n",
    "import seaborn as sb\n",
    "import re\n",
    "import warnings\n",
    "warnings.simplefilter(action = 'ignore')"
   ]
  },
  {
   "cell_type": "code",
   "execution_count": 2,
   "metadata": {},
   "outputs": [],
   "source": [
    "# Load datasets\n",
    "obesity_raw = pd.read_csv('data.csv')\n",
    "obesity = pd.read_csv('obesity-cleaned.csv')"
   ]
  },
  {
   "cell_type": "code",
   "execution_count": 3,
   "metadata": {},
   "outputs": [
    {
     "data": {
      "text/html": [
       "<div>\n",
       "<style scoped>\n",
       "    .dataframe tbody tr th:only-of-type {\n",
       "        vertical-align: middle;\n",
       "    }\n",
       "\n",
       "    .dataframe tbody tr th {\n",
       "        vertical-align: top;\n",
       "    }\n",
       "\n",
       "    .dataframe thead th {\n",
       "        text-align: right;\n",
       "    }\n",
       "</style>\n",
       "<table border=\"1\" class=\"dataframe\">\n",
       "  <thead>\n",
       "    <tr style=\"text-align: right;\">\n",
       "      <th></th>\n",
       "      <th>Unnamed: 0</th>\n",
       "      <th>2016</th>\n",
       "      <th>2016.1</th>\n",
       "      <th>2016.2</th>\n",
       "      <th>2015</th>\n",
       "      <th>2015.1</th>\n",
       "      <th>2015.2</th>\n",
       "      <th>2014</th>\n",
       "      <th>2014.1</th>\n",
       "      <th>2014.2</th>\n",
       "      <th>...</th>\n",
       "      <th>1978.2</th>\n",
       "      <th>1977</th>\n",
       "      <th>1977.1</th>\n",
       "      <th>1977.2</th>\n",
       "      <th>1976</th>\n",
       "      <th>1976.1</th>\n",
       "      <th>1976.2</th>\n",
       "      <th>1975</th>\n",
       "      <th>1975.1</th>\n",
       "      <th>1975.2</th>\n",
       "    </tr>\n",
       "  </thead>\n",
       "  <tbody>\n",
       "    <tr>\n",
       "      <th>0</th>\n",
       "      <td>NaN</td>\n",
       "      <td>Prevalence of obesity among adults, BMI &amp;Great...</td>\n",
       "      <td>Prevalence of obesity among adults, BMI &amp;Great...</td>\n",
       "      <td>Prevalence of obesity among adults, BMI &amp;Great...</td>\n",
       "      <td>Prevalence of obesity among adults, BMI &amp;Great...</td>\n",
       "      <td>Prevalence of obesity among adults, BMI &amp;Great...</td>\n",
       "      <td>Prevalence of obesity among adults, BMI &amp;Great...</td>\n",
       "      <td>Prevalence of obesity among adults, BMI &amp;Great...</td>\n",
       "      <td>Prevalence of obesity among adults, BMI &amp;Great...</td>\n",
       "      <td>Prevalence of obesity among adults, BMI &amp;Great...</td>\n",
       "      <td>...</td>\n",
       "      <td>Prevalence of obesity among adults, BMI &amp;Great...</td>\n",
       "      <td>Prevalence of obesity among adults, BMI &amp;Great...</td>\n",
       "      <td>Prevalence of obesity among adults, BMI &amp;Great...</td>\n",
       "      <td>Prevalence of obesity among adults, BMI &amp;Great...</td>\n",
       "      <td>Prevalence of obesity among adults, BMI &amp;Great...</td>\n",
       "      <td>Prevalence of obesity among adults, BMI &amp;Great...</td>\n",
       "      <td>Prevalence of obesity among adults, BMI &amp;Great...</td>\n",
       "      <td>Prevalence of obesity among adults, BMI &amp;Great...</td>\n",
       "      <td>Prevalence of obesity among adults, BMI &amp;Great...</td>\n",
       "      <td>Prevalence of obesity among adults, BMI &amp;Great...</td>\n",
       "    </tr>\n",
       "    <tr>\n",
       "      <th>1</th>\n",
       "      <td>NaN</td>\n",
       "      <td>18+  years</td>\n",
       "      <td>18+  years</td>\n",
       "      <td>18+  years</td>\n",
       "      <td>18+  years</td>\n",
       "      <td>18+  years</td>\n",
       "      <td>18+  years</td>\n",
       "      <td>18+  years</td>\n",
       "      <td>18+  years</td>\n",
       "      <td>18+  years</td>\n",
       "      <td>...</td>\n",
       "      <td>18+  years</td>\n",
       "      <td>18+  years</td>\n",
       "      <td>18+  years</td>\n",
       "      <td>18+  years</td>\n",
       "      <td>18+  years</td>\n",
       "      <td>18+  years</td>\n",
       "      <td>18+  years</td>\n",
       "      <td>18+  years</td>\n",
       "      <td>18+  years</td>\n",
       "      <td>18+  years</td>\n",
       "    </tr>\n",
       "    <tr>\n",
       "      <th>2</th>\n",
       "      <td>Country</td>\n",
       "      <td>Both sexes</td>\n",
       "      <td>Male</td>\n",
       "      <td>Female</td>\n",
       "      <td>Both sexes</td>\n",
       "      <td>Male</td>\n",
       "      <td>Female</td>\n",
       "      <td>Both sexes</td>\n",
       "      <td>Male</td>\n",
       "      <td>Female</td>\n",
       "      <td>...</td>\n",
       "      <td>Female</td>\n",
       "      <td>Both sexes</td>\n",
       "      <td>Male</td>\n",
       "      <td>Female</td>\n",
       "      <td>Both sexes</td>\n",
       "      <td>Male</td>\n",
       "      <td>Female</td>\n",
       "      <td>Both sexes</td>\n",
       "      <td>Male</td>\n",
       "      <td>Female</td>\n",
       "    </tr>\n",
       "    <tr>\n",
       "      <th>3</th>\n",
       "      <td>Afghanistan</td>\n",
       "      <td>5.5 [3.4-8.1]</td>\n",
       "      <td>3.2 [1.3-6.4]</td>\n",
       "      <td>7.6 [4.3-12.4]</td>\n",
       "      <td>5.2 [3.3-7.7]</td>\n",
       "      <td>3.0 [1.3-6.0]</td>\n",
       "      <td>7.3 [4.1-11.8]</td>\n",
       "      <td>4.9 [3.1-7.3]</td>\n",
       "      <td>2.8 [1.2-5.6]</td>\n",
       "      <td>7.0 [4.0-11.3]</td>\n",
       "      <td>...</td>\n",
       "      <td>0.9 [0.3-2.2]</td>\n",
       "      <td>0.6 [0.2-1.2]</td>\n",
       "      <td>0.2 [0.0-0.7]</td>\n",
       "      <td>0.9 [0.3-2.1]</td>\n",
       "      <td>0.5 [0.2-1.1]</td>\n",
       "      <td>0.2 [0.0-0.7]</td>\n",
       "      <td>0.8 [0.2-2.0]</td>\n",
       "      <td>0.5 [0.2-1.1]</td>\n",
       "      <td>0.2 [0.0-0.6]</td>\n",
       "      <td>0.8 [0.2-2.0]</td>\n",
       "    </tr>\n",
       "    <tr>\n",
       "      <th>4</th>\n",
       "      <td>Albania</td>\n",
       "      <td>21.7 [17.0-26.7]</td>\n",
       "      <td>21.6 [14.8-29.0]</td>\n",
       "      <td>21.8 [15.3-28.9]</td>\n",
       "      <td>21.1 [16.6-26.0]</td>\n",
       "      <td>20.9 [14.4-28.1]</td>\n",
       "      <td>21.3 [15.1-28.1]</td>\n",
       "      <td>20.5 [16.2-25.1]</td>\n",
       "      <td>20.2 [13.9-27.3]</td>\n",
       "      <td>20.8 [14.9-27.4]</td>\n",
       "      <td>...</td>\n",
       "      <td>9.1 [4.6-15.5]</td>\n",
       "      <td>6.8 [4.0-10.7]</td>\n",
       "      <td>4.8 [2.0-9.3]</td>\n",
       "      <td>8.9 [4.3-15.4]</td>\n",
       "      <td>6.7 [3.8-10.6]</td>\n",
       "      <td>4.6 [1.8-9.2]</td>\n",
       "      <td>8.8 [4.1-15.4]</td>\n",
       "      <td>6.5 [3.6-10.5]</td>\n",
       "      <td>4.4 [1.7-9.2]</td>\n",
       "      <td>8.6 [3.9-15.4]</td>\n",
       "    </tr>\n",
       "    <tr>\n",
       "      <th>5</th>\n",
       "      <td>Algeria</td>\n",
       "      <td>27.4 [22.5-32.7]</td>\n",
       "      <td>19.9 [13.6-27.1]</td>\n",
       "      <td>34.9 [27.6-42.7]</td>\n",
       "      <td>26.7 [21.9-31.8]</td>\n",
       "      <td>19.2 [13.2-26.1]</td>\n",
       "      <td>34.2 [27.1-41.7]</td>\n",
       "      <td>26.0 [21.4-30.9]</td>\n",
       "      <td>18.5 [12.7-25.0]</td>\n",
       "      <td>33.6 [26.7-40.7]</td>\n",
       "      <td>...</td>\n",
       "      <td>11.8 [6.5-18.6]</td>\n",
       "      <td>7.4 [4.3-11.3]</td>\n",
       "      <td>3.1 [1.2-6.2]</td>\n",
       "      <td>11.4 [6.2-18.4]</td>\n",
       "      <td>7.2 [4.1-11.1]</td>\n",
       "      <td>2.9 [1.1-6.1]</td>\n",
       "      <td>11.1 [5.8-18.2]</td>\n",
       "      <td>6.9 [3.9-10.9]</td>\n",
       "      <td>2.8 [1.0-6.0]</td>\n",
       "      <td>10.7 [5.5-18.0]</td>\n",
       "    </tr>\n",
       "    <tr>\n",
       "      <th>6</th>\n",
       "      <td>Andorra</td>\n",
       "      <td>25.6 [20.1-31.3]</td>\n",
       "      <td>25.9 [18.0-34.3]</td>\n",
       "      <td>25.3 [17.7-33.7]</td>\n",
       "      <td>25.4 [20.1-31.0]</td>\n",
       "      <td>25.5 [17.8-33.8]</td>\n",
       "      <td>25.2 [17.7-33.4]</td>\n",
       "      <td>25.2 [20.0-30.7]</td>\n",
       "      <td>25.2 [17.6-33.3]</td>\n",
       "      <td>25.1 [17.8-33.1]</td>\n",
       "      <td>...</td>\n",
       "      <td>17.5 [10.9-25.3]</td>\n",
       "      <td>14.0 [9.6-19.1]</td>\n",
       "      <td>10.7 [5.6-17.4]</td>\n",
       "      <td>16.9 [10.4-24.8]</td>\n",
       "      <td>13.5 [9.1-18.6]</td>\n",
       "      <td>10.2 [5.2-16.9]</td>\n",
       "      <td>16.4 [9.8-24.4]</td>\n",
       "      <td>12.9 [8.6-18.1]</td>\n",
       "      <td>9.7 [4.7-16.3]</td>\n",
       "      <td>15.8 [9.2-23.9]</td>\n",
       "    </tr>\n",
       "    <tr>\n",
       "      <th>7</th>\n",
       "      <td>Angola</td>\n",
       "      <td>8.2 [5.1-12.2]</td>\n",
       "      <td>4.0 [1.6-7.9]</td>\n",
       "      <td>12.1 [6.8-19.0]</td>\n",
       "      <td>7.9 [4.9-11.7]</td>\n",
       "      <td>3.8 [1.5-7.3]</td>\n",
       "      <td>11.6 [6.5-18.2]</td>\n",
       "      <td>7.5 [4.7-11.2]</td>\n",
       "      <td>3.6 [1.4-6.9]</td>\n",
       "      <td>11.1 [6.2-17.5]</td>\n",
       "      <td>...</td>\n",
       "      <td>1.6 [0.5-3.7]</td>\n",
       "      <td>0.9 [0.3-2.0]</td>\n",
       "      <td>0.3 [0.0-0.9]</td>\n",
       "      <td>1.5 [0.4-3.6]</td>\n",
       "      <td>0.9 [0.3-2.0]</td>\n",
       "      <td>0.3 [0.0-0.9]</td>\n",
       "      <td>1.4 [0.4-3.5]</td>\n",
       "      <td>0.8 [0.3-1.9]</td>\n",
       "      <td>0.2 [0.0-0.8]</td>\n",
       "      <td>1.4 [0.4-3.4]</td>\n",
       "    </tr>\n",
       "    <tr>\n",
       "      <th>8</th>\n",
       "      <td>Antigua and Barbuda</td>\n",
       "      <td>18.9 [13.8-24.6]</td>\n",
       "      <td>11.6 [6.4-18.6]</td>\n",
       "      <td>25.9 [17.6-35.2]</td>\n",
       "      <td>18.4 [13.5-23.8]</td>\n",
       "      <td>11.2 [6.2-17.8]</td>\n",
       "      <td>25.3 [17.3-34.3]</td>\n",
       "      <td>18.0 [13.2-23.1]</td>\n",
       "      <td>10.8 [6.1-17.1]</td>\n",
       "      <td>24.8 [17.1-33.5]</td>\n",
       "      <td>...</td>\n",
       "      <td>9.6 [5.0-16.1]</td>\n",
       "      <td>6.0 [3.4-9.5]</td>\n",
       "      <td>2.5 [0.9-5.4]</td>\n",
       "      <td>9.3 [4.7-15.9]</td>\n",
       "      <td>5.8 [3.2-9.3]</td>\n",
       "      <td>2.4 [0.8-5.3]</td>\n",
       "      <td>9.1 [4.4-15.7]</td>\n",
       "      <td>5.6 [3.0-9.1]</td>\n",
       "      <td>2.3 [0.8-5.1]</td>\n",
       "      <td>8.8 [4.1-15.6]</td>\n",
       "    </tr>\n",
       "    <tr>\n",
       "      <th>9</th>\n",
       "      <td>Argentina</td>\n",
       "      <td>28.3 [23.4-33.5]</td>\n",
       "      <td>27.3 [20.5-35.0]</td>\n",
       "      <td>29.0 [22.5-36.0]</td>\n",
       "      <td>27.8 [23.2-32.7]</td>\n",
       "      <td>26.8 [20.2-34.1]</td>\n",
       "      <td>28.5 [22.3-35.1]</td>\n",
       "      <td>27.3 [22.9-32.0]</td>\n",
       "      <td>26.2 [20.0-33.1]</td>\n",
       "      <td>28.1 [22.1-34.4]</td>\n",
       "      <td>...</td>\n",
       "      <td>14.1 [9.0-20.5]</td>\n",
       "      <td>11.8 [8.2-16.0]</td>\n",
       "      <td>9.6 [5.2-15.4]</td>\n",
       "      <td>13.8 [8.6-20.3]</td>\n",
       "      <td>11.5 [7.8-15.8]</td>\n",
       "      <td>9.3 [4.9-15.3]</td>\n",
       "      <td>13.5 [8.1-20.2]</td>\n",
       "      <td>11.2 [7.5-15.7]</td>\n",
       "      <td>9.0 [4.6-15.2]</td>\n",
       "      <td>13.2 [7.7-20.1]</td>\n",
       "    </tr>\n",
       "  </tbody>\n",
       "</table>\n",
       "<p>10 rows × 127 columns</p>\n",
       "</div>"
      ],
      "text/plain": [
       "            Unnamed: 0                                               2016  \\\n",
       "0                  NaN  Prevalence of obesity among adults, BMI &Great...   \n",
       "1                  NaN                                         18+  years   \n",
       "2              Country                                         Both sexes   \n",
       "3          Afghanistan                                      5.5 [3.4-8.1]   \n",
       "4              Albania                                   21.7 [17.0-26.7]   \n",
       "5              Algeria                                   27.4 [22.5-32.7]   \n",
       "6              Andorra                                   25.6 [20.1-31.3]   \n",
       "7               Angola                                     8.2 [5.1-12.2]   \n",
       "8  Antigua and Barbuda                                   18.9 [13.8-24.6]   \n",
       "9            Argentina                                   28.3 [23.4-33.5]   \n",
       "\n",
       "                                              2016.1  \\\n",
       "0  Prevalence of obesity among adults, BMI &Great...   \n",
       "1                                         18+  years   \n",
       "2                                               Male   \n",
       "3                                      3.2 [1.3-6.4]   \n",
       "4                                   21.6 [14.8-29.0]   \n",
       "5                                   19.9 [13.6-27.1]   \n",
       "6                                   25.9 [18.0-34.3]   \n",
       "7                                      4.0 [1.6-7.9]   \n",
       "8                                    11.6 [6.4-18.6]   \n",
       "9                                   27.3 [20.5-35.0]   \n",
       "\n",
       "                                              2016.2  \\\n",
       "0  Prevalence of obesity among adults, BMI &Great...   \n",
       "1                                         18+  years   \n",
       "2                                             Female   \n",
       "3                                     7.6 [4.3-12.4]   \n",
       "4                                   21.8 [15.3-28.9]   \n",
       "5                                   34.9 [27.6-42.7]   \n",
       "6                                   25.3 [17.7-33.7]   \n",
       "7                                    12.1 [6.8-19.0]   \n",
       "8                                   25.9 [17.6-35.2]   \n",
       "9                                   29.0 [22.5-36.0]   \n",
       "\n",
       "                                                2015  \\\n",
       "0  Prevalence of obesity among adults, BMI &Great...   \n",
       "1                                         18+  years   \n",
       "2                                         Both sexes   \n",
       "3                                      5.2 [3.3-7.7]   \n",
       "4                                   21.1 [16.6-26.0]   \n",
       "5                                   26.7 [21.9-31.8]   \n",
       "6                                   25.4 [20.1-31.0]   \n",
       "7                                     7.9 [4.9-11.7]   \n",
       "8                                   18.4 [13.5-23.8]   \n",
       "9                                   27.8 [23.2-32.7]   \n",
       "\n",
       "                                              2015.1  \\\n",
       "0  Prevalence of obesity among adults, BMI &Great...   \n",
       "1                                         18+  years   \n",
       "2                                               Male   \n",
       "3                                      3.0 [1.3-6.0]   \n",
       "4                                   20.9 [14.4-28.1]   \n",
       "5                                   19.2 [13.2-26.1]   \n",
       "6                                   25.5 [17.8-33.8]   \n",
       "7                                      3.8 [1.5-7.3]   \n",
       "8                                    11.2 [6.2-17.8]   \n",
       "9                                   26.8 [20.2-34.1]   \n",
       "\n",
       "                                              2015.2  \\\n",
       "0  Prevalence of obesity among adults, BMI &Great...   \n",
       "1                                         18+  years   \n",
       "2                                             Female   \n",
       "3                                     7.3 [4.1-11.8]   \n",
       "4                                   21.3 [15.1-28.1]   \n",
       "5                                   34.2 [27.1-41.7]   \n",
       "6                                   25.2 [17.7-33.4]   \n",
       "7                                    11.6 [6.5-18.2]   \n",
       "8                                   25.3 [17.3-34.3]   \n",
       "9                                   28.5 [22.3-35.1]   \n",
       "\n",
       "                                                2014  \\\n",
       "0  Prevalence of obesity among adults, BMI &Great...   \n",
       "1                                         18+  years   \n",
       "2                                         Both sexes   \n",
       "3                                      4.9 [3.1-7.3]   \n",
       "4                                   20.5 [16.2-25.1]   \n",
       "5                                   26.0 [21.4-30.9]   \n",
       "6                                   25.2 [20.0-30.7]   \n",
       "7                                     7.5 [4.7-11.2]   \n",
       "8                                   18.0 [13.2-23.1]   \n",
       "9                                   27.3 [22.9-32.0]   \n",
       "\n",
       "                                              2014.1  \\\n",
       "0  Prevalence of obesity among adults, BMI &Great...   \n",
       "1                                         18+  years   \n",
       "2                                               Male   \n",
       "3                                      2.8 [1.2-5.6]   \n",
       "4                                   20.2 [13.9-27.3]   \n",
       "5                                   18.5 [12.7-25.0]   \n",
       "6                                   25.2 [17.6-33.3]   \n",
       "7                                      3.6 [1.4-6.9]   \n",
       "8                                    10.8 [6.1-17.1]   \n",
       "9                                   26.2 [20.0-33.1]   \n",
       "\n",
       "                                              2014.2  ...  \\\n",
       "0  Prevalence of obesity among adults, BMI &Great...  ...   \n",
       "1                                         18+  years  ...   \n",
       "2                                             Female  ...   \n",
       "3                                     7.0 [4.0-11.3]  ...   \n",
       "4                                   20.8 [14.9-27.4]  ...   \n",
       "5                                   33.6 [26.7-40.7]  ...   \n",
       "6                                   25.1 [17.8-33.1]  ...   \n",
       "7                                    11.1 [6.2-17.5]  ...   \n",
       "8                                   24.8 [17.1-33.5]  ...   \n",
       "9                                   28.1 [22.1-34.4]  ...   \n",
       "\n",
       "                                              1978.2  \\\n",
       "0  Prevalence of obesity among adults, BMI &Great...   \n",
       "1                                         18+  years   \n",
       "2                                             Female   \n",
       "3                                      0.9 [0.3-2.2]   \n",
       "4                                     9.1 [4.6-15.5]   \n",
       "5                                    11.8 [6.5-18.6]   \n",
       "6                                   17.5 [10.9-25.3]   \n",
       "7                                      1.6 [0.5-3.7]   \n",
       "8                                     9.6 [5.0-16.1]   \n",
       "9                                    14.1 [9.0-20.5]   \n",
       "\n",
       "                                                1977  \\\n",
       "0  Prevalence of obesity among adults, BMI &Great...   \n",
       "1                                         18+  years   \n",
       "2                                         Both sexes   \n",
       "3                                      0.6 [0.2-1.2]   \n",
       "4                                     6.8 [4.0-10.7]   \n",
       "5                                     7.4 [4.3-11.3]   \n",
       "6                                    14.0 [9.6-19.1]   \n",
       "7                                      0.9 [0.3-2.0]   \n",
       "8                                      6.0 [3.4-9.5]   \n",
       "9                                    11.8 [8.2-16.0]   \n",
       "\n",
       "                                              1977.1  \\\n",
       "0  Prevalence of obesity among adults, BMI &Great...   \n",
       "1                                         18+  years   \n",
       "2                                               Male   \n",
       "3                                      0.2 [0.0-0.7]   \n",
       "4                                      4.8 [2.0-9.3]   \n",
       "5                                      3.1 [1.2-6.2]   \n",
       "6                                    10.7 [5.6-17.4]   \n",
       "7                                      0.3 [0.0-0.9]   \n",
       "8                                      2.5 [0.9-5.4]   \n",
       "9                                     9.6 [5.2-15.4]   \n",
       "\n",
       "                                              1977.2  \\\n",
       "0  Prevalence of obesity among adults, BMI &Great...   \n",
       "1                                         18+  years   \n",
       "2                                             Female   \n",
       "3                                      0.9 [0.3-2.1]   \n",
       "4                                     8.9 [4.3-15.4]   \n",
       "5                                    11.4 [6.2-18.4]   \n",
       "6                                   16.9 [10.4-24.8]   \n",
       "7                                      1.5 [0.4-3.6]   \n",
       "8                                     9.3 [4.7-15.9]   \n",
       "9                                    13.8 [8.6-20.3]   \n",
       "\n",
       "                                                1976  \\\n",
       "0  Prevalence of obesity among adults, BMI &Great...   \n",
       "1                                         18+  years   \n",
       "2                                         Both sexes   \n",
       "3                                      0.5 [0.2-1.1]   \n",
       "4                                     6.7 [3.8-10.6]   \n",
       "5                                     7.2 [4.1-11.1]   \n",
       "6                                    13.5 [9.1-18.6]   \n",
       "7                                      0.9 [0.3-2.0]   \n",
       "8                                      5.8 [3.2-9.3]   \n",
       "9                                    11.5 [7.8-15.8]   \n",
       "\n",
       "                                              1976.1  \\\n",
       "0  Prevalence of obesity among adults, BMI &Great...   \n",
       "1                                         18+  years   \n",
       "2                                               Male   \n",
       "3                                      0.2 [0.0-0.7]   \n",
       "4                                      4.6 [1.8-9.2]   \n",
       "5                                      2.9 [1.1-6.1]   \n",
       "6                                    10.2 [5.2-16.9]   \n",
       "7                                      0.3 [0.0-0.9]   \n",
       "8                                      2.4 [0.8-5.3]   \n",
       "9                                     9.3 [4.9-15.3]   \n",
       "\n",
       "                                              1976.2  \\\n",
       "0  Prevalence of obesity among adults, BMI &Great...   \n",
       "1                                         18+  years   \n",
       "2                                             Female   \n",
       "3                                      0.8 [0.2-2.0]   \n",
       "4                                     8.8 [4.1-15.4]   \n",
       "5                                    11.1 [5.8-18.2]   \n",
       "6                                    16.4 [9.8-24.4]   \n",
       "7                                      1.4 [0.4-3.5]   \n",
       "8                                     9.1 [4.4-15.7]   \n",
       "9                                    13.5 [8.1-20.2]   \n",
       "\n",
       "                                                1975  \\\n",
       "0  Prevalence of obesity among adults, BMI &Great...   \n",
       "1                                         18+  years   \n",
       "2                                         Both sexes   \n",
       "3                                      0.5 [0.2-1.1]   \n",
       "4                                     6.5 [3.6-10.5]   \n",
       "5                                     6.9 [3.9-10.9]   \n",
       "6                                    12.9 [8.6-18.1]   \n",
       "7                                      0.8 [0.3-1.9]   \n",
       "8                                      5.6 [3.0-9.1]   \n",
       "9                                    11.2 [7.5-15.7]   \n",
       "\n",
       "                                              1975.1  \\\n",
       "0  Prevalence of obesity among adults, BMI &Great...   \n",
       "1                                         18+  years   \n",
       "2                                               Male   \n",
       "3                                      0.2 [0.0-0.6]   \n",
       "4                                      4.4 [1.7-9.2]   \n",
       "5                                      2.8 [1.0-6.0]   \n",
       "6                                     9.7 [4.7-16.3]   \n",
       "7                                      0.2 [0.0-0.8]   \n",
       "8                                      2.3 [0.8-5.1]   \n",
       "9                                     9.0 [4.6-15.2]   \n",
       "\n",
       "                                              1975.2  \n",
       "0  Prevalence of obesity among adults, BMI &Great...  \n",
       "1                                         18+  years  \n",
       "2                                             Female  \n",
       "3                                      0.8 [0.2-2.0]  \n",
       "4                                     8.6 [3.9-15.4]  \n",
       "5                                    10.7 [5.5-18.0]  \n",
       "6                                    15.8 [9.2-23.9]  \n",
       "7                                      1.4 [0.4-3.4]  \n",
       "8                                     8.8 [4.1-15.6]  \n",
       "9                                    13.2 [7.7-20.1]  \n",
       "\n",
       "[10 rows x 127 columns]"
      ]
     },
     "execution_count": 3,
     "metadata": {},
     "output_type": "execute_result"
    }
   ],
   "source": [
    "obesity_raw.head(10)"
   ]
  },
  {
   "cell_type": "code",
   "execution_count": 4,
   "metadata": {},
   "outputs": [
    {
     "data": {
      "text/html": [
       "<div>\n",
       "<style scoped>\n",
       "    .dataframe tbody tr th:only-of-type {\n",
       "        vertical-align: middle;\n",
       "    }\n",
       "\n",
       "    .dataframe tbody tr th {\n",
       "        vertical-align: top;\n",
       "    }\n",
       "\n",
       "    .dataframe thead th {\n",
       "        text-align: right;\n",
       "    }\n",
       "</style>\n",
       "<table border=\"1\" class=\"dataframe\">\n",
       "  <thead>\n",
       "    <tr style=\"text-align: right;\">\n",
       "      <th></th>\n",
       "      <th>Unnamed: 0</th>\n",
       "      <th>2016</th>\n",
       "      <th>2016.1</th>\n",
       "      <th>2016.2</th>\n",
       "      <th>2015</th>\n",
       "      <th>2015.1</th>\n",
       "      <th>2015.2</th>\n",
       "      <th>2014</th>\n",
       "      <th>2014.1</th>\n",
       "      <th>2014.2</th>\n",
       "      <th>...</th>\n",
       "      <th>1978.2</th>\n",
       "      <th>1977</th>\n",
       "      <th>1977.1</th>\n",
       "      <th>1977.2</th>\n",
       "      <th>1976</th>\n",
       "      <th>1976.1</th>\n",
       "      <th>1976.2</th>\n",
       "      <th>1975</th>\n",
       "      <th>1975.1</th>\n",
       "      <th>1975.2</th>\n",
       "    </tr>\n",
       "  </thead>\n",
       "  <tbody>\n",
       "    <tr>\n",
       "      <th>188</th>\n",
       "      <td>United Republic of Tanzania</td>\n",
       "      <td>8.4 [6.3-11.0]</td>\n",
       "      <td>4.0 [2.1-6.6]</td>\n",
       "      <td>12.7 [9.1-17.1]</td>\n",
       "      <td>8.0 [6.1-10.5]</td>\n",
       "      <td>3.7 [1.9-6.3]</td>\n",
       "      <td>12.1 [8.8-16.3]</td>\n",
       "      <td>7.6 [5.8-9.9]</td>\n",
       "      <td>3.5 [1.9-5.8]</td>\n",
       "      <td>11.6 [8.4-15.4]</td>\n",
       "      <td>...</td>\n",
       "      <td>1.7 [0.7-3.4]</td>\n",
       "      <td>1.0 [0.4-1.9]</td>\n",
       "      <td>0.3 [0.1-1.0]</td>\n",
       "      <td>1.6 [0.6-3.3]</td>\n",
       "      <td>0.9 [0.4-1.8]</td>\n",
       "      <td>0.3 [0.1-1.0]</td>\n",
       "      <td>1.5 [0.5-3.2]</td>\n",
       "      <td>0.9 [0.4-1.8]</td>\n",
       "      <td>0.3 [0.1-0.9]</td>\n",
       "      <td>1.4 [0.5-3.1]</td>\n",
       "    </tr>\n",
       "    <tr>\n",
       "      <th>189</th>\n",
       "      <td>United States of America</td>\n",
       "      <td>36.2 [32.3-40.1]</td>\n",
       "      <td>35.5 [30.0-41.2]</td>\n",
       "      <td>37.0 [31.6-42.4]</td>\n",
       "      <td>35.6 [31.9-39.3]</td>\n",
       "      <td>34.7 [29.7-40.1]</td>\n",
       "      <td>36.4 [31.3-41.4]</td>\n",
       "      <td>34.9 [31.4-38.4]</td>\n",
       "      <td>34.0 [29.2-39.0]</td>\n",
       "      <td>35.7 [31.0-40.6]</td>\n",
       "      <td>...</td>\n",
       "      <td>14.4 [10.9-18.2]</td>\n",
       "      <td>12.6 [10.1-15.3]</td>\n",
       "      <td>11.0 [7.8-15.0]</td>\n",
       "      <td>14.0 [10.4-18.0]</td>\n",
       "      <td>12.2 [9.7-15.1]</td>\n",
       "      <td>10.7 [7.4-14.7]</td>\n",
       "      <td>13.6 [10.0-17.8]</td>\n",
       "      <td>11.9 [9.3-14.8]</td>\n",
       "      <td>10.3 [7.0-14.5]</td>\n",
       "      <td>13.3 [9.5-17.6]</td>\n",
       "    </tr>\n",
       "    <tr>\n",
       "      <th>190</th>\n",
       "      <td>Uruguay</td>\n",
       "      <td>27.9 [22.8-33.4]</td>\n",
       "      <td>24.9 [18.0-32.4]</td>\n",
       "      <td>30.6 [23.2-38.5]</td>\n",
       "      <td>27.5 [22.5-32.7]</td>\n",
       "      <td>24.4 [17.8-31.6]</td>\n",
       "      <td>30.1 [23.1-37.7]</td>\n",
       "      <td>27.0 [22.1-32.0]</td>\n",
       "      <td>23.8 [17.4-30.9]</td>\n",
       "      <td>29.7 [22.9-36.9]</td>\n",
       "      <td>...</td>\n",
       "      <td>15.5 [9.4-23.0]</td>\n",
       "      <td>11.9 [7.9-16.6]</td>\n",
       "      <td>8.4 [4.1-14.6]</td>\n",
       "      <td>15.2 [9.0-22.9]</td>\n",
       "      <td>11.7 [7.6-16.4]</td>\n",
       "      <td>8.1 [3.9-14.4]</td>\n",
       "      <td>14.9 [8.6-22.8]</td>\n",
       "      <td>11.4 [7.3-16.3]</td>\n",
       "      <td>7.9 [3.6-14.2]</td>\n",
       "      <td>14.6 [8.3-22.7]</td>\n",
       "    </tr>\n",
       "    <tr>\n",
       "      <th>191</th>\n",
       "      <td>Uzbekistan</td>\n",
       "      <td>16.6 [12.4-21.2]</td>\n",
       "      <td>13.8 [8.4-20.3]</td>\n",
       "      <td>19.0 [13.0-25.6]</td>\n",
       "      <td>16.0 [12.0-20.5]</td>\n",
       "      <td>13.3 [8.2-19.5]</td>\n",
       "      <td>18.4 [12.7-24.7]</td>\n",
       "      <td>15.4 [11.7-19.7]</td>\n",
       "      <td>12.8 [7.9-18.8]</td>\n",
       "      <td>17.8 [12.4-23.9]</td>\n",
       "      <td>...</td>\n",
       "      <td>6.2 [2.8-11.3]</td>\n",
       "      <td>4.8 [2.6-7.9]</td>\n",
       "      <td>3.2 [1.1-6.8]</td>\n",
       "      <td>6.0 [2.7-11.2]</td>\n",
       "      <td>4.6 [2.4-7.7]</td>\n",
       "      <td>3.1 [1.0-6.6]</td>\n",
       "      <td>5.8 [2.5-11.0]</td>\n",
       "      <td>4.4 [2.3-7.6]</td>\n",
       "      <td>2.9 [1.0-6.5]</td>\n",
       "      <td>5.6 [2.3-10.8]</td>\n",
       "    </tr>\n",
       "    <tr>\n",
       "      <th>192</th>\n",
       "      <td>Vanuatu</td>\n",
       "      <td>25.2 [19.6-31.0]</td>\n",
       "      <td>20.2 [12.9-28.6]</td>\n",
       "      <td>30.1 [22.1-38.8]</td>\n",
       "      <td>24.5 [19.1-30.1]</td>\n",
       "      <td>19.5 [12.5-27.7]</td>\n",
       "      <td>29.4 [21.7-37.9]</td>\n",
       "      <td>23.9 [18.7-29.3]</td>\n",
       "      <td>18.9 [12.1-26.7]</td>\n",
       "      <td>28.8 [21.3-37.1]</td>\n",
       "      <td>...</td>\n",
       "      <td>9.1 [4.1-16.3]</td>\n",
       "      <td>6.1 [3.1-10.2]</td>\n",
       "      <td>4.0 [1.2-9.0]</td>\n",
       "      <td>8.7 [3.8-16.0]</td>\n",
       "      <td>5.8 [2.9-10.0]</td>\n",
       "      <td>3.8 [1.1-8.8]</td>\n",
       "      <td>8.4 [3.5-15.8]</td>\n",
       "      <td>5.6 [2.7-9.8]</td>\n",
       "      <td>3.7 [1.0-8.6]</td>\n",
       "      <td>8.1 [3.2-15.5]</td>\n",
       "    </tr>\n",
       "    <tr>\n",
       "      <th>193</th>\n",
       "      <td>Venezuela (Bolivarian Republic of)</td>\n",
       "      <td>25.6 [21.3-30.2]</td>\n",
       "      <td>22.4 [16.4-28.9]</td>\n",
       "      <td>28.6 [22.5-35.2]</td>\n",
       "      <td>25.2 [21.0-29.5]</td>\n",
       "      <td>22.0 [16.2-28.2]</td>\n",
       "      <td>28.3 [22.4-34.6]</td>\n",
       "      <td>24.8 [20.8-29.0]</td>\n",
       "      <td>21.5 [16.0-27.4]</td>\n",
       "      <td>27.9 [22.2-34.1]</td>\n",
       "      <td>...</td>\n",
       "      <td>14.4 [8.4-21.4]</td>\n",
       "      <td>10.3 [6.7-14.6]</td>\n",
       "      <td>6.6 [3.2-11.7]</td>\n",
       "      <td>14.0 [8.0-21.3]</td>\n",
       "      <td>9.9 [6.3-14.3]</td>\n",
       "      <td>6.3 [2.9-11.5]</td>\n",
       "      <td>13.6 [7.5-21.0]</td>\n",
       "      <td>9.6 [5.9-14.1]</td>\n",
       "      <td>5.9 [2.7-11.2]</td>\n",
       "      <td>13.2 [7.1-20.7]</td>\n",
       "    </tr>\n",
       "    <tr>\n",
       "      <th>194</th>\n",
       "      <td>Viet Nam</td>\n",
       "      <td>2.1 [1.4-3.1]</td>\n",
       "      <td>1.6 [0.8-2.8]</td>\n",
       "      <td>2.6 [1.5-4.2]</td>\n",
       "      <td>2.0 [1.3-2.9]</td>\n",
       "      <td>1.5 [0.8-2.5]</td>\n",
       "      <td>2.4 [1.4-3.9]</td>\n",
       "      <td>1.8 [1.2-2.6]</td>\n",
       "      <td>1.3 [0.7-2.3]</td>\n",
       "      <td>2.3 [1.3-3.6]</td>\n",
       "      <td>...</td>\n",
       "      <td>0.2 [0.1-0.6]</td>\n",
       "      <td>0.2 [0.1-0.3]</td>\n",
       "      <td>0.1 [0.0-0.2]</td>\n",
       "      <td>0.2 [0.1-0.5]</td>\n",
       "      <td>0.1 [0.1-0.3]</td>\n",
       "      <td>0.1 [0.0-0.2]</td>\n",
       "      <td>0.2 [0.1-0.5]</td>\n",
       "      <td>0.1 [0.0-0.3]</td>\n",
       "      <td>0.1 [0.0-0.2]</td>\n",
       "      <td>0.2 [0.1-0.5]</td>\n",
       "    </tr>\n",
       "    <tr>\n",
       "      <th>195</th>\n",
       "      <td>Yemen</td>\n",
       "      <td>17.1 [13.3-21.3]</td>\n",
       "      <td>12.0 [7.3-17.6]</td>\n",
       "      <td>22.0 [16.0-28.4]</td>\n",
       "      <td>16.5 [12.9-20.5]</td>\n",
       "      <td>11.4 [7.0-16.7]</td>\n",
       "      <td>21.3 [15.6-27.4]</td>\n",
       "      <td>15.9 [12.4-19.6]</td>\n",
       "      <td>10.8 [6.7-15.7]</td>\n",
       "      <td>20.6 [15.2-26.4]</td>\n",
       "      <td>...</td>\n",
       "      <td>4.8 [2.0-9.3]</td>\n",
       "      <td>3.1 [1.5-5.7]</td>\n",
       "      <td>1.3 [0.4-3.3]</td>\n",
       "      <td>4.5 [1.9-9.2]</td>\n",
       "      <td>2.9 [1.4-5.6]</td>\n",
       "      <td>1.3 [0.3-3.2]</td>\n",
       "      <td>4.3 [1.7-9.0]</td>\n",
       "      <td>2.8 [1.3-5.4]</td>\n",
       "      <td>1.2 [0.3-3.1]</td>\n",
       "      <td>4.2 [1.5-8.9]</td>\n",
       "    </tr>\n",
       "    <tr>\n",
       "      <th>196</th>\n",
       "      <td>Zambia</td>\n",
       "      <td>8.1 [5.8-10.7]</td>\n",
       "      <td>3.6 [1.7-6.5]</td>\n",
       "      <td>12.4 [8.5-17.1]</td>\n",
       "      <td>7.7 [5.6-10.2]</td>\n",
       "      <td>3.4 [1.6-6.1]</td>\n",
       "      <td>12.0 [8.2-16.4]</td>\n",
       "      <td>7.4 [5.4-9.8]</td>\n",
       "      <td>3.2 [1.5-5.7]</td>\n",
       "      <td>11.5 [7.9-15.7]</td>\n",
       "      <td>...</td>\n",
       "      <td>3.0 [1.3-5.6]</td>\n",
       "      <td>1.7 [0.8-3.2]</td>\n",
       "      <td>0.5 [0.1-1.5]</td>\n",
       "      <td>2.9 [1.2-5.4]</td>\n",
       "      <td>1.6 [0.7-3.1]</td>\n",
       "      <td>0.5 [0.1-1.4]</td>\n",
       "      <td>2.7 [1.1-5.3]</td>\n",
       "      <td>1.5 [0.7-3.0]</td>\n",
       "      <td>0.5 [0.1-1.4]</td>\n",
       "      <td>2.5 [1.0-5.1]</td>\n",
       "    </tr>\n",
       "    <tr>\n",
       "      <th>197</th>\n",
       "      <td>Zimbabwe</td>\n",
       "      <td>15.5 [12.0-19.2]</td>\n",
       "      <td>4.7 [2.5-8.0]</td>\n",
       "      <td>25.3 [19.1-32.0]</td>\n",
       "      <td>15.2 [11.9-18.8]</td>\n",
       "      <td>4.5 [2.4-7.6]</td>\n",
       "      <td>24.8 [18.9-31.3]</td>\n",
       "      <td>14.9 [11.7-18.4]</td>\n",
       "      <td>4.4 [2.4-7.3]</td>\n",
       "      <td>24.4 [18.8-30.6]</td>\n",
       "      <td>...</td>\n",
       "      <td>7.7 [3.9-13.1]</td>\n",
       "      <td>4.0 [2.1-6.8]</td>\n",
       "      <td>0.5 [0.1-1.3]</td>\n",
       "      <td>7.4 [3.6-12.7]</td>\n",
       "      <td>3.9 [1.9-6.7]</td>\n",
       "      <td>0.5 [0.1-1.3]</td>\n",
       "      <td>7.0 [3.3-12.4]</td>\n",
       "      <td>3.7 [1.7-6.5]</td>\n",
       "      <td>0.4 [0.1-1.3]</td>\n",
       "      <td>6.7 [3.0-12.2]</td>\n",
       "    </tr>\n",
       "  </tbody>\n",
       "</table>\n",
       "<p>10 rows × 127 columns</p>\n",
       "</div>"
      ],
      "text/plain": [
       "                             Unnamed: 0              2016            2016.1  \\\n",
       "188         United Republic of Tanzania    8.4 [6.3-11.0]     4.0 [2.1-6.6]   \n",
       "189            United States of America  36.2 [32.3-40.1]  35.5 [30.0-41.2]   \n",
       "190                             Uruguay  27.9 [22.8-33.4]  24.9 [18.0-32.4]   \n",
       "191                          Uzbekistan  16.6 [12.4-21.2]   13.8 [8.4-20.3]   \n",
       "192                             Vanuatu  25.2 [19.6-31.0]  20.2 [12.9-28.6]   \n",
       "193  Venezuela (Bolivarian Republic of)  25.6 [21.3-30.2]  22.4 [16.4-28.9]   \n",
       "194                            Viet Nam     2.1 [1.4-3.1]     1.6 [0.8-2.8]   \n",
       "195                               Yemen  17.1 [13.3-21.3]   12.0 [7.3-17.6]   \n",
       "196                              Zambia    8.1 [5.8-10.7]     3.6 [1.7-6.5]   \n",
       "197                            Zimbabwe  15.5 [12.0-19.2]     4.7 [2.5-8.0]   \n",
       "\n",
       "               2016.2              2015            2015.1            2015.2  \\\n",
       "188   12.7 [9.1-17.1]    8.0 [6.1-10.5]     3.7 [1.9-6.3]   12.1 [8.8-16.3]   \n",
       "189  37.0 [31.6-42.4]  35.6 [31.9-39.3]  34.7 [29.7-40.1]  36.4 [31.3-41.4]   \n",
       "190  30.6 [23.2-38.5]  27.5 [22.5-32.7]  24.4 [17.8-31.6]  30.1 [23.1-37.7]   \n",
       "191  19.0 [13.0-25.6]  16.0 [12.0-20.5]   13.3 [8.2-19.5]  18.4 [12.7-24.7]   \n",
       "192  30.1 [22.1-38.8]  24.5 [19.1-30.1]  19.5 [12.5-27.7]  29.4 [21.7-37.9]   \n",
       "193  28.6 [22.5-35.2]  25.2 [21.0-29.5]  22.0 [16.2-28.2]  28.3 [22.4-34.6]   \n",
       "194     2.6 [1.5-4.2]     2.0 [1.3-2.9]     1.5 [0.8-2.5]     2.4 [1.4-3.9]   \n",
       "195  22.0 [16.0-28.4]  16.5 [12.9-20.5]   11.4 [7.0-16.7]  21.3 [15.6-27.4]   \n",
       "196   12.4 [8.5-17.1]    7.7 [5.6-10.2]     3.4 [1.6-6.1]   12.0 [8.2-16.4]   \n",
       "197  25.3 [19.1-32.0]  15.2 [11.9-18.8]     4.5 [2.4-7.6]  24.8 [18.9-31.3]   \n",
       "\n",
       "                 2014            2014.1            2014.2  ...  \\\n",
       "188     7.6 [5.8-9.9]     3.5 [1.9-5.8]   11.6 [8.4-15.4]  ...   \n",
       "189  34.9 [31.4-38.4]  34.0 [29.2-39.0]  35.7 [31.0-40.6]  ...   \n",
       "190  27.0 [22.1-32.0]  23.8 [17.4-30.9]  29.7 [22.9-36.9]  ...   \n",
       "191  15.4 [11.7-19.7]   12.8 [7.9-18.8]  17.8 [12.4-23.9]  ...   \n",
       "192  23.9 [18.7-29.3]  18.9 [12.1-26.7]  28.8 [21.3-37.1]  ...   \n",
       "193  24.8 [20.8-29.0]  21.5 [16.0-27.4]  27.9 [22.2-34.1]  ...   \n",
       "194     1.8 [1.2-2.6]     1.3 [0.7-2.3]     2.3 [1.3-3.6]  ...   \n",
       "195  15.9 [12.4-19.6]   10.8 [6.7-15.7]  20.6 [15.2-26.4]  ...   \n",
       "196     7.4 [5.4-9.8]     3.2 [1.5-5.7]   11.5 [7.9-15.7]  ...   \n",
       "197  14.9 [11.7-18.4]     4.4 [2.4-7.3]  24.4 [18.8-30.6]  ...   \n",
       "\n",
       "               1978.2              1977           1977.1            1977.2  \\\n",
       "188     1.7 [0.7-3.4]     1.0 [0.4-1.9]    0.3 [0.1-1.0]     1.6 [0.6-3.3]   \n",
       "189  14.4 [10.9-18.2]  12.6 [10.1-15.3]  11.0 [7.8-15.0]  14.0 [10.4-18.0]   \n",
       "190   15.5 [9.4-23.0]   11.9 [7.9-16.6]   8.4 [4.1-14.6]   15.2 [9.0-22.9]   \n",
       "191    6.2 [2.8-11.3]     4.8 [2.6-7.9]    3.2 [1.1-6.8]    6.0 [2.7-11.2]   \n",
       "192    9.1 [4.1-16.3]    6.1 [3.1-10.2]    4.0 [1.2-9.0]    8.7 [3.8-16.0]   \n",
       "193   14.4 [8.4-21.4]   10.3 [6.7-14.6]   6.6 [3.2-11.7]   14.0 [8.0-21.3]   \n",
       "194     0.2 [0.1-0.6]     0.2 [0.1-0.3]    0.1 [0.0-0.2]     0.2 [0.1-0.5]   \n",
       "195     4.8 [2.0-9.3]     3.1 [1.5-5.7]    1.3 [0.4-3.3]     4.5 [1.9-9.2]   \n",
       "196     3.0 [1.3-5.6]     1.7 [0.8-3.2]    0.5 [0.1-1.5]     2.9 [1.2-5.4]   \n",
       "197    7.7 [3.9-13.1]     4.0 [2.1-6.8]    0.5 [0.1-1.3]    7.4 [3.6-12.7]   \n",
       "\n",
       "                1976           1976.1            1976.2             1975  \\\n",
       "188    0.9 [0.4-1.8]    0.3 [0.1-1.0]     1.5 [0.5-3.2]    0.9 [0.4-1.8]   \n",
       "189  12.2 [9.7-15.1]  10.7 [7.4-14.7]  13.6 [10.0-17.8]  11.9 [9.3-14.8]   \n",
       "190  11.7 [7.6-16.4]   8.1 [3.9-14.4]   14.9 [8.6-22.8]  11.4 [7.3-16.3]   \n",
       "191    4.6 [2.4-7.7]    3.1 [1.0-6.6]    5.8 [2.5-11.0]    4.4 [2.3-7.6]   \n",
       "192   5.8 [2.9-10.0]    3.8 [1.1-8.8]    8.4 [3.5-15.8]    5.6 [2.7-9.8]   \n",
       "193   9.9 [6.3-14.3]   6.3 [2.9-11.5]   13.6 [7.5-21.0]   9.6 [5.9-14.1]   \n",
       "194    0.1 [0.1-0.3]    0.1 [0.0-0.2]     0.2 [0.1-0.5]    0.1 [0.0-0.3]   \n",
       "195    2.9 [1.4-5.6]    1.3 [0.3-3.2]     4.3 [1.7-9.0]    2.8 [1.3-5.4]   \n",
       "196    1.6 [0.7-3.1]    0.5 [0.1-1.4]     2.7 [1.1-5.3]    1.5 [0.7-3.0]   \n",
       "197    3.9 [1.9-6.7]    0.5 [0.1-1.3]    7.0 [3.3-12.4]    3.7 [1.7-6.5]   \n",
       "\n",
       "              1975.1           1975.2  \n",
       "188    0.3 [0.1-0.9]    1.4 [0.5-3.1]  \n",
       "189  10.3 [7.0-14.5]  13.3 [9.5-17.6]  \n",
       "190   7.9 [3.6-14.2]  14.6 [8.3-22.7]  \n",
       "191    2.9 [1.0-6.5]   5.6 [2.3-10.8]  \n",
       "192    3.7 [1.0-8.6]   8.1 [3.2-15.5]  \n",
       "193   5.9 [2.7-11.2]  13.2 [7.1-20.7]  \n",
       "194    0.1 [0.0-0.2]    0.2 [0.1-0.5]  \n",
       "195    1.2 [0.3-3.1]    4.2 [1.5-8.9]  \n",
       "196    0.5 [0.1-1.4]    2.5 [1.0-5.1]  \n",
       "197    0.4 [0.1-1.3]   6.7 [3.0-12.2]  \n",
       "\n",
       "[10 rows x 127 columns]"
      ]
     },
     "execution_count": 4,
     "metadata": {},
     "output_type": "execute_result"
    }
   ],
   "source": [
    "obesity_raw.tail(10)"
   ]
  },
  {
   "cell_type": "code",
   "execution_count": 5,
   "metadata": {},
   "outputs": [
    {
     "name": "stdout",
     "output_type": "stream",
     "text": [
      "<class 'pandas.core.frame.DataFrame'>\n",
      "RangeIndex: 198 entries, 0 to 197\n",
      "Columns: 127 entries, Unnamed: 0 to 1975.2\n",
      "dtypes: object(127)\n",
      "memory usage: 196.6+ KB\n"
     ]
    }
   ],
   "source": [
    "obesity_raw.info()"
   ]
  },
  {
   "cell_type": "code",
   "execution_count": 6,
   "metadata": {},
   "outputs": [
    {
     "data": {
      "text/html": [
       "<div>\n",
       "<style scoped>\n",
       "    .dataframe tbody tr th:only-of-type {\n",
       "        vertical-align: middle;\n",
       "    }\n",
       "\n",
       "    .dataframe tbody tr th {\n",
       "        vertical-align: top;\n",
       "    }\n",
       "\n",
       "    .dataframe thead th {\n",
       "        text-align: right;\n",
       "    }\n",
       "</style>\n",
       "<table border=\"1\" class=\"dataframe\">\n",
       "  <thead>\n",
       "    <tr style=\"text-align: right;\">\n",
       "      <th></th>\n",
       "      <th>Unnamed: 0</th>\n",
       "      <th>Country</th>\n",
       "      <th>Year</th>\n",
       "      <th>Obesity (%)</th>\n",
       "      <th>Sex</th>\n",
       "    </tr>\n",
       "  </thead>\n",
       "  <tbody>\n",
       "    <tr>\n",
       "      <th>0</th>\n",
       "      <td>0</td>\n",
       "      <td>Afghanistan</td>\n",
       "      <td>1975</td>\n",
       "      <td>0.5 [0.2-1.1]</td>\n",
       "      <td>Both sexes</td>\n",
       "    </tr>\n",
       "    <tr>\n",
       "      <th>1</th>\n",
       "      <td>1</td>\n",
       "      <td>Afghanistan</td>\n",
       "      <td>1975</td>\n",
       "      <td>0.2 [0.0-0.6]</td>\n",
       "      <td>Male</td>\n",
       "    </tr>\n",
       "    <tr>\n",
       "      <th>2</th>\n",
       "      <td>2</td>\n",
       "      <td>Afghanistan</td>\n",
       "      <td>1975</td>\n",
       "      <td>0.8 [0.2-2.0]</td>\n",
       "      <td>Female</td>\n",
       "    </tr>\n",
       "    <tr>\n",
       "      <th>3</th>\n",
       "      <td>3</td>\n",
       "      <td>Afghanistan</td>\n",
       "      <td>1976</td>\n",
       "      <td>0.5 [0.2-1.1]</td>\n",
       "      <td>Both sexes</td>\n",
       "    </tr>\n",
       "    <tr>\n",
       "      <th>4</th>\n",
       "      <td>4</td>\n",
       "      <td>Afghanistan</td>\n",
       "      <td>1976</td>\n",
       "      <td>0.2 [0.0-0.7]</td>\n",
       "      <td>Male</td>\n",
       "    </tr>\n",
       "    <tr>\n",
       "      <th>5</th>\n",
       "      <td>5</td>\n",
       "      <td>Afghanistan</td>\n",
       "      <td>1976</td>\n",
       "      <td>0.8 [0.2-2.0]</td>\n",
       "      <td>Female</td>\n",
       "    </tr>\n",
       "    <tr>\n",
       "      <th>6</th>\n",
       "      <td>6</td>\n",
       "      <td>Afghanistan</td>\n",
       "      <td>1977</td>\n",
       "      <td>0.6 [0.2-1.2]</td>\n",
       "      <td>Both sexes</td>\n",
       "    </tr>\n",
       "    <tr>\n",
       "      <th>7</th>\n",
       "      <td>7</td>\n",
       "      <td>Afghanistan</td>\n",
       "      <td>1977</td>\n",
       "      <td>0.2 [0.0-0.7]</td>\n",
       "      <td>Male</td>\n",
       "    </tr>\n",
       "    <tr>\n",
       "      <th>8</th>\n",
       "      <td>8</td>\n",
       "      <td>Afghanistan</td>\n",
       "      <td>1977</td>\n",
       "      <td>0.9 [0.3-2.1]</td>\n",
       "      <td>Female</td>\n",
       "    </tr>\n",
       "    <tr>\n",
       "      <th>9</th>\n",
       "      <td>9</td>\n",
       "      <td>Afghanistan</td>\n",
       "      <td>1978</td>\n",
       "      <td>0.6 [0.2-1.3]</td>\n",
       "      <td>Both sexes</td>\n",
       "    </tr>\n",
       "  </tbody>\n",
       "</table>\n",
       "</div>"
      ],
      "text/plain": [
       "   Unnamed: 0      Country  Year    Obesity (%)         Sex\n",
       "0           0  Afghanistan  1975  0.5 [0.2-1.1]  Both sexes\n",
       "1           1  Afghanistan  1975  0.2 [0.0-0.6]        Male\n",
       "2           2  Afghanistan  1975  0.8 [0.2-2.0]      Female\n",
       "3           3  Afghanistan  1976  0.5 [0.2-1.1]  Both sexes\n",
       "4           4  Afghanistan  1976  0.2 [0.0-0.7]        Male\n",
       "5           5  Afghanistan  1976  0.8 [0.2-2.0]      Female\n",
       "6           6  Afghanistan  1977  0.6 [0.2-1.2]  Both sexes\n",
       "7           7  Afghanistan  1977  0.2 [0.0-0.7]        Male\n",
       "8           8  Afghanistan  1977  0.9 [0.3-2.1]      Female\n",
       "9           9  Afghanistan  1978  0.6 [0.2-1.3]  Both sexes"
      ]
     },
     "execution_count": 6,
     "metadata": {},
     "output_type": "execute_result"
    }
   ],
   "source": [
    "obesity.head(10)"
   ]
  },
  {
   "cell_type": "code",
   "execution_count": 7,
   "metadata": {},
   "outputs": [
    {
     "data": {
      "text/html": [
       "<div>\n",
       "<style scoped>\n",
       "    .dataframe tbody tr th:only-of-type {\n",
       "        vertical-align: middle;\n",
       "    }\n",
       "\n",
       "    .dataframe tbody tr th {\n",
       "        vertical-align: top;\n",
       "    }\n",
       "\n",
       "    .dataframe thead th {\n",
       "        text-align: right;\n",
       "    }\n",
       "</style>\n",
       "<table border=\"1\" class=\"dataframe\">\n",
       "  <thead>\n",
       "    <tr style=\"text-align: right;\">\n",
       "      <th></th>\n",
       "      <th>Unnamed: 0</th>\n",
       "      <th>Country</th>\n",
       "      <th>Year</th>\n",
       "      <th>Obesity (%)</th>\n",
       "      <th>Sex</th>\n",
       "    </tr>\n",
       "  </thead>\n",
       "  <tbody>\n",
       "    <tr>\n",
       "      <th>24560</th>\n",
       "      <td>24560</td>\n",
       "      <td>Zimbabwe</td>\n",
       "      <td>2013</td>\n",
       "      <td>23.9 [18.5-30.0]</td>\n",
       "      <td>Female</td>\n",
       "    </tr>\n",
       "    <tr>\n",
       "      <th>24561</th>\n",
       "      <td>24561</td>\n",
       "      <td>Zimbabwe</td>\n",
       "      <td>2014</td>\n",
       "      <td>14.9 [11.7-18.4]</td>\n",
       "      <td>Both sexes</td>\n",
       "    </tr>\n",
       "    <tr>\n",
       "      <th>24562</th>\n",
       "      <td>24562</td>\n",
       "      <td>Zimbabwe</td>\n",
       "      <td>2014</td>\n",
       "      <td>4.4 [2.4-7.3]</td>\n",
       "      <td>Male</td>\n",
       "    </tr>\n",
       "    <tr>\n",
       "      <th>24563</th>\n",
       "      <td>24563</td>\n",
       "      <td>Zimbabwe</td>\n",
       "      <td>2014</td>\n",
       "      <td>24.4 [18.8-30.6]</td>\n",
       "      <td>Female</td>\n",
       "    </tr>\n",
       "    <tr>\n",
       "      <th>24564</th>\n",
       "      <td>24564</td>\n",
       "      <td>Zimbabwe</td>\n",
       "      <td>2015</td>\n",
       "      <td>15.2 [11.9-18.8]</td>\n",
       "      <td>Both sexes</td>\n",
       "    </tr>\n",
       "    <tr>\n",
       "      <th>24565</th>\n",
       "      <td>24565</td>\n",
       "      <td>Zimbabwe</td>\n",
       "      <td>2015</td>\n",
       "      <td>4.5 [2.4-7.6]</td>\n",
       "      <td>Male</td>\n",
       "    </tr>\n",
       "    <tr>\n",
       "      <th>24566</th>\n",
       "      <td>24566</td>\n",
       "      <td>Zimbabwe</td>\n",
       "      <td>2015</td>\n",
       "      <td>24.8 [18.9-31.3]</td>\n",
       "      <td>Female</td>\n",
       "    </tr>\n",
       "    <tr>\n",
       "      <th>24567</th>\n",
       "      <td>24567</td>\n",
       "      <td>Zimbabwe</td>\n",
       "      <td>2016</td>\n",
       "      <td>15.5 [12.0-19.2]</td>\n",
       "      <td>Both sexes</td>\n",
       "    </tr>\n",
       "    <tr>\n",
       "      <th>24568</th>\n",
       "      <td>24568</td>\n",
       "      <td>Zimbabwe</td>\n",
       "      <td>2016</td>\n",
       "      <td>4.7 [2.5-8.0]</td>\n",
       "      <td>Male</td>\n",
       "    </tr>\n",
       "    <tr>\n",
       "      <th>24569</th>\n",
       "      <td>24569</td>\n",
       "      <td>Zimbabwe</td>\n",
       "      <td>2016</td>\n",
       "      <td>25.3 [19.1-32.0]</td>\n",
       "      <td>Female</td>\n",
       "    </tr>\n",
       "  </tbody>\n",
       "</table>\n",
       "</div>"
      ],
      "text/plain": [
       "       Unnamed: 0   Country  Year       Obesity (%)         Sex\n",
       "24560       24560  Zimbabwe  2013  23.9 [18.5-30.0]      Female\n",
       "24561       24561  Zimbabwe  2014  14.9 [11.7-18.4]  Both sexes\n",
       "24562       24562  Zimbabwe  2014     4.4 [2.4-7.3]        Male\n",
       "24563       24563  Zimbabwe  2014  24.4 [18.8-30.6]      Female\n",
       "24564       24564  Zimbabwe  2015  15.2 [11.9-18.8]  Both sexes\n",
       "24565       24565  Zimbabwe  2015     4.5 [2.4-7.6]        Male\n",
       "24566       24566  Zimbabwe  2015  24.8 [18.9-31.3]      Female\n",
       "24567       24567  Zimbabwe  2016  15.5 [12.0-19.2]  Both sexes\n",
       "24568       24568  Zimbabwe  2016     4.7 [2.5-8.0]        Male\n",
       "24569       24569  Zimbabwe  2016  25.3 [19.1-32.0]      Female"
      ]
     },
     "execution_count": 7,
     "metadata": {},
     "output_type": "execute_result"
    }
   ],
   "source": [
    "obesity.tail(10)"
   ]
  },
  {
   "cell_type": "code",
   "execution_count": 8,
   "metadata": {},
   "outputs": [
    {
     "name": "stdout",
     "output_type": "stream",
     "text": [
      "<class 'pandas.core.frame.DataFrame'>\n",
      "RangeIndex: 24570 entries, 0 to 24569\n",
      "Data columns (total 5 columns):\n",
      " #   Column       Non-Null Count  Dtype \n",
      "---  ------       --------------  ----- \n",
      " 0   Unnamed: 0   24570 non-null  int64 \n",
      " 1   Country      24570 non-null  object\n",
      " 2   Year         24570 non-null  int64 \n",
      " 3   Obesity (%)  24570 non-null  object\n",
      " 4   Sex          24570 non-null  object\n",
      "dtypes: int64(2), object(3)\n",
      "memory usage: 959.9+ KB\n"
     ]
    }
   ],
   "source": [
    "obesity.info()"
   ]
  },
  {
   "cell_type": "code",
   "execution_count": 9,
   "metadata": {},
   "outputs": [
    {
     "data": {
      "text/plain": [
       "Madagascar             126\n",
       "Antigua and Barbuda    126\n",
       "Colombia               126\n",
       "Switzerland            126\n",
       "Ukraine                126\n",
       "                      ... \n",
       "Finland                126\n",
       "Grenada                126\n",
       "San Marino             126\n",
       "Azerbaijan             126\n",
       "Armenia                126\n",
       "Name: Country, Length: 195, dtype: int64"
      ]
     },
     "execution_count": 9,
     "metadata": {},
     "output_type": "execute_result"
    }
   ],
   "source": [
    "obesity['Country'].value_counts()"
   ]
  },
  {
   "cell_type": "code",
   "execution_count": 10,
   "metadata": {},
   "outputs": [
    {
     "data": {
      "text/plain": [
       "2015    585\n",
       "2004    585\n",
       "1976    585\n",
       "2007    585\n",
       "1991    585\n",
       "1975    585\n",
       "2006    585\n",
       "1990    585\n",
       "2005    585\n",
       "1989    585\n",
       "1988    585\n",
       "1999    585\n",
       "2003    585\n",
       "1987    585\n",
       "2002    585\n",
       "1986    585\n",
       "2001    585\n",
       "1985    585\n",
       "2016    585\n",
       "2000    585\n",
       "1992    585\n",
       "2008    585\n",
       "1977    585\n",
       "1993    585\n",
       "1983    585\n",
       "2014    585\n",
       "1998    585\n",
       "1982    585\n",
       "2013    585\n",
       "1997    585\n",
       "1981    585\n",
       "2012    585\n",
       "1996    585\n",
       "1980    585\n",
       "2011    585\n",
       "1995    585\n",
       "1979    585\n",
       "2010    585\n",
       "1994    585\n",
       "1978    585\n",
       "2009    585\n",
       "1984    585\n",
       "Name: Year, dtype: int64"
      ]
     },
     "execution_count": 10,
     "metadata": {},
     "output_type": "execute_result"
    }
   ],
   "source": [
    "obesity['Year'].value_counts()"
   ]
  },
  {
   "cell_type": "code",
   "execution_count": 11,
   "metadata": {},
   "outputs": [
    {
     "data": {
      "text/plain": [
       "count       24570\n",
       "unique      16375\n",
       "top       No data\n",
       "freq          504\n",
       "Name: Obesity (%), dtype: object"
      ]
     },
     "execution_count": 11,
     "metadata": {},
     "output_type": "execute_result"
    }
   ],
   "source": [
    "obesity['Obesity (%)'].describe()"
   ]
  },
  {
   "cell_type": "code",
   "execution_count": 12,
   "metadata": {},
   "outputs": [
    {
     "data": {
      "text/plain": [
       "Male          8190\n",
       "Both sexes    8190\n",
       "Female        8190\n",
       "Name: Sex, dtype: int64"
      ]
     },
     "execution_count": 12,
     "metadata": {},
     "output_type": "execute_result"
    }
   ],
   "source": [
    "obesity['Sex'].value_counts()"
   ]
  },
  {
   "cell_type": "code",
   "execution_count": 13,
   "metadata": {},
   "outputs": [
    {
     "data": {
      "text/plain": [
       "Unnamed: 0    2\n",
       "2016          0\n",
       "2016.1        0\n",
       "2016.2        0\n",
       "2015          0\n",
       "             ..\n",
       "1976.1        0\n",
       "1976.2        0\n",
       "1975          0\n",
       "1975.1        0\n",
       "1975.2        0\n",
       "Length: 127, dtype: int64"
      ]
     },
     "execution_count": 13,
     "metadata": {},
     "output_type": "execute_result"
    }
   ],
   "source": [
    "obesity_raw.isnull().sum()"
   ]
  },
  {
   "cell_type": "code",
   "execution_count": 14,
   "metadata": {},
   "outputs": [
    {
     "data": {
      "text/plain": [
       "Unnamed: 0     0\n",
       "Country        0\n",
       "Year           0\n",
       "Obesity (%)    0\n",
       "Sex            0\n",
       "dtype: int64"
      ]
     },
     "execution_count": 14,
     "metadata": {},
     "output_type": "execute_result"
    }
   ],
   "source": [
    "obesity.isnull().sum()"
   ]
  },
  {
   "cell_type": "markdown",
   "metadata": {},
   "source": [
    "# 3. Data Preparation "
   ]
  },
  {
   "cell_type": "code",
   "execution_count": 15,
   "metadata": {},
   "outputs": [],
   "source": [
    "# Change the first column in obesity_raw to Country\n",
    "obesity_raw = obesity_raw.rename(columns = {'Unnamed: 0' : 'Country'})"
   ]
  },
  {
   "cell_type": "code",
   "execution_count": 16,
   "metadata": {},
   "outputs": [],
   "source": [
    "# Change the first column in obesity to id\n",
    "obesity = obesity.rename(columns = {'Unnamed: 0' : 'id'})"
   ]
  },
  {
   "cell_type": "code",
   "execution_count": 17,
   "metadata": {},
   "outputs": [],
   "source": [
    "# Drop the countries in obesity_raw that have no data, since they are not useful\n",
    "for index, row in obesity_raw.iterrows():\n",
    "    if row[1] == 'No data':\n",
    "        obesity_raw = obesity_raw.drop(index = index)"
   ]
  },
  {
   "cell_type": "code",
   "execution_count": 18,
   "metadata": {},
   "outputs": [],
   "source": [
    "# Drop the countries in obesity that have no data, since they are not useful\n",
    "for index, row in obesity.iterrows():\n",
    "    if obesity['Obesity (%)'][index] == 'No data':\n",
    "        obesity = obesity.drop(index = index)"
   ]
  },
  {
   "cell_type": "code",
   "execution_count": 19,
   "metadata": {},
   "outputs": [],
   "source": [
    "# Fix the naming of some countries in the datasets\n",
    "def fix_naming_countries(df):\n",
    "    '''\n",
    "    INPUT:\n",
    "    df - (pandas dataframe) the obesity datasets\n",
    "    '''\n",
    "    for index, row in df.iterrows():\n",
    "        if df['Country'][index] == 'Bolivia (Plurinational State of)':\n",
    "            df['Country'][index] = 'Bolivia'\n",
    "        if df['Country'][index] == 'Brunei Darussalam':\n",
    "            df['Country'][index] = 'Brunei'\n",
    "        if df['Country'][index] == 'Cabo Verde':\n",
    "            df['Country'][index] = 'Cape Verde'\n",
    "        if df['Country'][index] == \"Côte d'Ivoire\":\n",
    "            df['Country'][index] = 'Ivory Coast'\n",
    "        if df['Country'][index] == 'Czechia':\n",
    "            df['Country'][index] = 'Czech Republic'\n",
    "        if df['Country'][index] == \"Democratic People's Republic of Korea\":\n",
    "            df['Country'][index] = 'North Korea'\n",
    "        if df['Country'][index] == 'Eswatini':\n",
    "            df['Country'][index] = 'Swaziland'\n",
    "        if df['Country'][index] == 'Iran (Islamic Republic of)':\n",
    "            df['Country'][index] = 'Iran'\n",
    "        if df['Country'][index] == \"Lao People's Democratic Republic\":\n",
    "            df['Country'][index] = 'Laos'\n",
    "        if df['Country'][index] == 'Micronesia (Federated States of)':\n",
    "            df['Country'][index] = 'Micronesia'\n",
    "        if df['Country'][index] == 'Republic of Korea':\n",
    "            df['Country'][index] = 'South Korea'\n",
    "        if df['Country'][index] == 'Republic of Moldova':\n",
    "            df['Country'][index] = 'Moldova'\n",
    "        if df['Country'][index] == 'Republic of North Macedonia':\n",
    "            df['Country'][index] = 'Macedonia'\n",
    "        if df['Country'][index] == 'Russian Federation':\n",
    "            df['Country'][index] = 'Russia'\n",
    "        if df['Country'][index] == 'Sudan (former)':\n",
    "            df['Country'][index] = 'Sudan'\n",
    "        if df['Country'][index] == 'Syrian Arab Republic':\n",
    "            df['Country'][index] = 'Syria'\n",
    "        if df['Country'][index] == 'United Kingdom of Great Britain and Northern Ireland':\n",
    "            df['Country'][index] = 'United Kingdom'\n",
    "        if df['Country'][index] == 'United Republic of Tanzania':\n",
    "            df['Country'][index] = 'Tanzania'\n",
    "        if df['Country'][index] == 'Venezuela (Bolivarian Republic of)':\n",
    "            df['Country'][index] = 'Venezuela'\n",
    "        if df['Country'][index] == 'Viet Nam':\n",
    "            df['Country'][index] = 'Vietnam'"
   ]
  },
  {
   "cell_type": "code",
   "execution_count": 20,
   "metadata": {},
   "outputs": [],
   "source": [
    "# Call the fix_naming_countries function for correcting country names\n",
    "fix_naming_countries(obesity_raw)\n",
    "fix_naming_countries(obesity)"
   ]
  },
  {
   "cell_type": "code",
   "execution_count": 21,
   "metadata": {},
   "outputs": [],
   "source": [
    "# Prepare the columns in obesity_raw to change the variable types\n",
    "for index, row in obesity_raw.iterrows():\n",
    "    if '.' in obesity_raw['2016'][index]:\n",
    "        for col in obesity_raw.columns: \n",
    "            if col == 'Country':\n",
    "                continue\n",
    "            string = re.split('[[]', obesity_raw[col][index])\n",
    "            obesity_raw[col][index] = string[0]"
   ]
  },
  {
   "cell_type": "code",
   "execution_count": 22,
   "metadata": {},
   "outputs": [],
   "source": [
    "# Change the column values in obesity_raw to float variables\n",
    "for col in obesity_raw.columns:\n",
    "    if '.' in obesity_raw[col][index]:\n",
    "        if col == 'Country':\n",
    "            continue\n",
    "        obesity_raw[col] = pd.to_numeric(obesity_raw[col], errors = 'coerce')"
   ]
  },
  {
   "cell_type": "code",
   "execution_count": 23,
   "metadata": {},
   "outputs": [],
   "source": [
    "# Prepare the Obesity (%) column to change the variable type\n",
    "for index, row in obesity.iterrows():\n",
    "    string = re.split('[[]', obesity['Obesity (%)'][index])\n",
    "    obesity['Obesity (%)'][index] = string[0]"
   ]
  },
  {
   "cell_type": "code",
   "execution_count": 24,
   "metadata": {},
   "outputs": [],
   "source": [
    "# Change the Obesity (%) column values to a float variable \n",
    "obesity['Obesity (%)'] = obesity['Obesity (%)'].astype('float')"
   ]
  },
  {
   "cell_type": "code",
   "execution_count": 25,
   "metadata": {},
   "outputs": [],
   "source": [
    "# Sort the datasets by the Country column after performing name changes\n",
    "obesity_raw = obesity_raw.sort_values(by = 'Country')\n",
    "obesity = obesity.sort_values(by = 'Country')"
   ]
  },
  {
   "cell_type": "code",
   "execution_count": 26,
   "metadata": {},
   "outputs": [],
   "source": [
    "# Pick out number of countries with highest or lowest obesity rates based on sex and number of desired countries\n",
    "def high_or_low(df, sex, direction, number):\n",
    "    '''\n",
    "    INPUT:\n",
    "    df - (pandas dataframe) the obesity dataset\n",
    "    sex - Male, Female, or Both sexes\n",
    "    direction - highest or lowest\n",
    "    number - number of desired countries \n",
    "    \n",
    "    OUTPUT:\n",
    "    countries - list of countries \n",
    "    values - list of obesity rates\n",
    "    years - list of years\n",
    "    '''\n",
    "    dataframe = df[df['Sex'] == sex]\n",
    "    countries = []\n",
    "    values = []\n",
    "    years = []\n",
    "    if direction == 'low':\n",
    "        dataframe = dataframe.sort_values(by = 'Obesity (%)', ascending = True)\n",
    "        for index, row in dataframe.iterrows():\n",
    "            if df['Country'][index] in countries:\n",
    "                continue\n",
    "            countries.append(df['Country'][index])\n",
    "            values.append(df['Obesity (%)'][index])\n",
    "            years.append(df['Year'][index])\n",
    "    else: \n",
    "        dataframe = dataframe.sort_values(by = 'Obesity (%)', ascending = False)\n",
    "        for index, row in dataframe.iterrows():\n",
    "            if df['Country'][index] in countries:\n",
    "                continue\n",
    "            countries.append(df['Country'][index])\n",
    "            values.append(df['Obesity (%)'][index])\n",
    "            years.append(df['Year'][index])\n",
    "    countries = countries[0:number]\n",
    "    values = values[0:number]\n",
    "    years = years[0:number]\n",
    "    return countries, values, years"
   ]
  },
  {
   "cell_type": "code",
   "execution_count": 27,
   "metadata": {},
   "outputs": [],
   "source": [
    "# The solutions for the highest obesity percentages in the world for the first question \n",
    "[highest_male, highest_male_values, highest_male_years] = high_or_low(obesity, 'Male', 'high', 1)\n",
    "[highest_female, highest_female_values, highest_female_years] = high_or_low(obesity, 'Female', 'high', 1)\n",
    "[highest_both, highest_both_values, highest_both_years] = high_or_low(obesity, 'Both sexes', 'high', 1)"
   ]
  },
  {
   "cell_type": "code",
   "execution_count": 28,
   "metadata": {},
   "outputs": [],
   "source": [
    "# The solutions for the lowest obesity percentages in the world for the first question\n",
    "[lowest_male, lowest_male_values, lowest_male_years] = high_or_low(obesity, 'Male', 'low', 1)\n",
    "[lowest_female, lowest_female_values, lowest_female_years] = high_or_low(obesity, 'Female', 'low', 1)\n",
    "[lowest_both, lowest_both_values, lowest_both_years] = high_or_low(obesity, 'Both sexes', 'low', 1)"
   ]
  },
  {
   "cell_type": "code",
   "execution_count": 29,
   "metadata": {},
   "outputs": [],
   "source": [
    "# The solutions for the five different countries with the highest obesity percentages in the world for the second question \n",
    "[high_male, high_male_values, high_male_years] = high_or_low(obesity, 'Male', 'high', 5)\n",
    "[high_female, high_female_values, high_female_years] = high_or_low(obesity, 'Female', 'high', 5)\n",
    "[high_both, high_both_values, high_both_years] = high_or_low(obesity, 'Both sexes', 'high', 5)"
   ]
  },
  {
   "cell_type": "code",
   "execution_count": 30,
   "metadata": {},
   "outputs": [],
   "source": [
    "# The solutions for the five different countries with the lowest obesity percentages in the world for the second question\n",
    "[low_male, low_male_values, low_male_years] = high_or_low(obesity, 'Male', 'low', 5)\n",
    "[low_female, low_female_values, low_female_years] = high_or_low(obesity, 'Female', 'low', 5)\n",
    "[low_both, low_both_values, low_both_years] = high_or_low(obesity, 'Both sexes', 'low', 5)"
   ]
  },
  {
   "cell_type": "code",
   "execution_count": 31,
   "metadata": {},
   "outputs": [],
   "source": [
    "# Calculates average obesity percentages for each year in South America for males, for females, and for both sexes\n",
    "years_male = []\n",
    "years_female = []\n",
    "years_both = []\n",
    "for col in obesity_raw.columns:\n",
    "    string = str(col)\n",
    "    num = 0\n",
    "    for index, row in obesity_raw.iterrows():\n",
    "        if string != 'Country':\n",
    "            if obesity_raw['Country'][index] == 'Argentina':\n",
    "                num = num + obesity_raw[string][index] \n",
    "            if obesity_raw['Country'][index] == 'Bolivia':\n",
    "                num = num + obesity_raw[string][index]\n",
    "            if obesity_raw['Country'][index] == 'Brazil':\n",
    "                num = num + obesity_raw[string][index]\n",
    "            if obesity_raw['Country'][index] == 'Chile':\n",
    "                num = num + obesity_raw[string][index]\n",
    "            if obesity_raw['Country'][index] == 'Colombia':\n",
    "                num = num + obesity_raw[string][index]\n",
    "            if obesity_raw['Country'][index] == 'Ecuador':\n",
    "                num = num + obesity_raw[string][index]\n",
    "            if obesity_raw['Country'][index] == 'Guyana':\n",
    "                num = num + obesity_raw[string][index]\n",
    "            if obesity_raw['Country'][index] == 'Paraguay':\n",
    "                num = num + obesity_raw[string][index]\n",
    "            if obesity_raw['Country'][index] == 'Peru':\n",
    "                num = num + obesity_raw[string][index]\n",
    "            if obesity_raw['Country'][index] == 'Suriname':\n",
    "                num = num + obesity_raw[string][index]\n",
    "            if obesity_raw['Country'][index] == 'Uruguay':\n",
    "                num = num + obesity_raw[string][index]\n",
    "            if obesity_raw['Country'][index] == 'Venezuela':\n",
    "                num = num + obesity_raw[string][index]\n",
    "    if '.1' in string:\n",
    "        num = num / 12\n",
    "        x = [num, current_year]\n",
    "        years_male.append(x)\n",
    "    elif '.2' in string:\n",
    "        num = num / 12\n",
    "        x = [num, current_year]\n",
    "        years_female.append(x)\n",
    "    else:\n",
    "        if string != 'Country':\n",
    "            current_year = []\n",
    "            current_year = col  \n",
    "            num = num / 12\n",
    "            x = [num, current_year]\n",
    "            years_both.append(x)"
   ]
  },
  {
   "cell_type": "code",
   "execution_count": 32,
   "metadata": {},
   "outputs": [],
   "source": [
    "# Creates a dataframe with the obesity percentages for the top five years in South America for males, for females, and for both sexes\n",
    "x = {'Year': [''], 'Sex': [''], 'Obesity (%)': [0.0]}\n",
    "df_high = pd.DataFrame(data = x)\n",
    "countries = ['Argentina', 'Bolivia', 'Brazil', 'Chile', 'Colombia', 'Ecuador', 'Guyana', 'Paraguay', 'Peru', 'Suriname', 'Uruguay', 'Venezuela']\n",
    "years = ['2016', '2016.1', '2016.2', '2015', '2015.1', '2015.2', '2014', '2014.1', '2014.2', '2013', '2013.1', '2013.2', '2012', '2012.1', '2012.2']\n",
    "for col in obesity_raw.columns:\n",
    "    string = str(col)\n",
    "    num = 0\n",
    "    for index, row in obesity_raw.iterrows():\n",
    "        if string != 'Country':\n",
    "            if obesity_raw['Country'][index] in countries and string in years:\n",
    "                if '.1' in string:\n",
    "                    new_row = {'Year': current_year, 'Sex': 'Male', 'Obesity (%)': obesity_raw[string][index]}\n",
    "                    df_high = df_high.append(new_row, ignore_index=True)\n",
    "                elif '.2' in string:\n",
    "                    new_row = {'Year': current_year, 'Sex': 'Female', 'Obesity (%)': obesity_raw[string][index]}\n",
    "                    df_high = df_high.append(new_row, ignore_index=True)\n",
    "                else:\n",
    "                    current_year = string\n",
    "                    new_row = {'Year': current_year, 'Sex': 'Both Sexes', 'Obesity (%)': obesity_raw[string][index]}\n",
    "                    df_high = df_high.append(new_row, ignore_index=True)\n",
    "df_high = df_high.drop(0)"
   ]
  },
  {
   "cell_type": "code",
   "execution_count": 33,
   "metadata": {},
   "outputs": [],
   "source": [
    "# Creates a dataframe with the obesity percentages for the bottom five years in South America for males, for females, and for both sexes\n",
    "x = {'Year': [''], 'Sex': [''], 'Obesity (%)': [0.0]}\n",
    "df_low = pd.DataFrame(data = x)\n",
    "countries = ['Argentina', 'Bolivia', 'Brazil', 'Chile', 'Colombia', 'Ecuador', 'Guyana', 'Paraguay', 'Peru', 'Suriname', 'Uruguay', 'Venezuela']\n",
    "years = ['1979', '1979.1', '1979.2', '1978', '1978.1', '1978.2', '1977', '1977.1', '1977.2', '1976', '1976.1', '1976.2', '1975', '1975.1', '1975.2']\n",
    "for col in obesity_raw.columns:\n",
    "    string = str(col)\n",
    "    num = 0\n",
    "    for index, row in obesity_raw.iterrows():\n",
    "        if string != 'Country':\n",
    "            if obesity_raw['Country'][index] in countries and string in years:\n",
    "                if '.1' in string:\n",
    "                    new_row = {'Year': current_year, 'Sex': 'Male', 'Obesity (%)': obesity_raw[string][index]}\n",
    "                    df_low = df_low.append(new_row, ignore_index=True)\n",
    "                elif '.2' in string:\n",
    "                    new_row = {'Year': current_year, 'Sex': 'Female', 'Obesity (%)': obesity_raw[string][index]}\n",
    "                    df_low = df_low.append(new_row, ignore_index=True)\n",
    "                else:\n",
    "                    current_year = string\n",
    "                    new_row = {'Year': current_year, 'Sex': 'Both Sexes', 'Obesity (%)': obesity_raw[string][index]}\n",
    "                    df_low = df_low.append(new_row, ignore_index=True)\n",
    "df_low = df_low.drop(0)"
   ]
  },
  {
   "cell_type": "code",
   "execution_count": 34,
   "metadata": {},
   "outputs": [],
   "source": [
    "# Calculates average obesity rate by year and continent for all sexes\n",
    "def average_obesity_rate_by_continent(df, year, continent):\n",
    "    '''\n",
    "    INPUT:\n",
    "    df - (pandas dataframe) the obesity dataset\n",
    "    year - Male, Female, or Both sexes\n",
    "    continent - string value of a continent\n",
    "    \n",
    "    OUTPUT:\n",
    "    male_values - obesity percentage of males in year and in continent\n",
    "    female_values - obesity percentage of females in year and in continent\n",
    "    both_values - obesity percentage of both sexes in year and in continent\n",
    "    '''\n",
    "    male_count = 0\n",
    "    female_count = 0\n",
    "    both_count = 0\n",
    "    Asia = ['Afghanistan', 'Armenia', 'Azerbaijan', 'Bahrain', 'Bangladesh', 'Bhutan', 'Brunei', 'Cambodia', 'China', 'Cyprus', 'Georgia', 'India', 'Indonesia', 'Iran', 'Iraq', 'Israel', 'Japan', 'Jordan', 'Kazakhstan', 'Kuwait', 'Kyrgyzstan', 'Laos', 'Lebanon', 'Malaysia', 'Maldives', 'Mongolia', 'Myanmar', 'Nepal', 'North Korea', 'Oman', 'Pakistan', 'Philippines', 'Qatar', 'Russia', 'Saudi Arabia', 'Singapore', 'South Korea', 'Sri Lanka', 'Syria', 'Tajikistan', 'Thailand', 'Timor-Leste', 'Turkey', 'Turkmenistan', 'United Arab Emirates', 'Uzbekistan', 'Vietnam', 'Yemen']\n",
    "    Africa = ['Algeria', 'Angola', 'Benin', 'Botswana', 'Burkina Faso', 'Burundi', 'Cape Verde', 'Cameroon', 'Central African Republic', 'Chad', 'Comoros', 'Congo', 'Ivory Coast', 'Democratic Republic of the Congo', 'Djibouti', 'Egypt', 'Equatorial Guinea', 'Eritrea', 'Swaziland', 'Ethiopia', 'Gabon', 'Gambia', 'Ghana', 'Guinea', 'Guinea-Bissau', 'Kenya', 'Lesotho', 'Liberia', 'Libya', 'Madagascar', 'Malawi', 'Mali', 'Mauritania', 'Mauritius', 'Morocco', 'Mozambique', 'Namibia', 'Niger', 'Nigeria', 'Rwanda', 'Sao Tome and Principe', 'Senegal', 'Seychelles', 'Sierra Leone', 'Somalia', 'South Africa', 'Sudan', 'Togo', 'Tunisia', 'Uganda', 'Tanzania', 'Zambia', 'Zimbabwe']\n",
    "    Europe = ['Albania', 'Andorra', 'Austria', 'Belarus', 'Belgium', 'Bosnia and Herzegovina', 'Bulgaria', 'Croatia', 'Czech Republic', 'Denmark', 'Estonia', 'Finland', 'France', 'Germany', 'Greece', 'Hungary', 'Iceland', 'Ireland', 'Italy', 'Latvia', 'Lithuania', 'Luxembourg', 'Malta', 'Montenegro', 'Netherlands', 'Norway', 'Poland', 'Portugal', 'Macedonia', 'Moldova', 'Romania', 'Serbia', 'Slovakia', 'Slovenia', 'Spain', 'Sweden', 'Switzerland', 'Ukraine', 'United Kingdom']\n",
    "    North_America = ['Antigua and Barbuda', 'Bahamas', 'Barbados', 'Belize', 'Canada', 'Costa Rica', 'Cuba', 'Dominica', 'Dominican Republic', 'El Salvador', 'Grenada', 'Guatemala', 'Haiti', 'Honduras', 'Jamaica', 'Mexico', 'Nicaragua', 'Panama', 'Saint Kitts and Nevis', 'Saint Lucia', 'Saint Vincent and the Grenadines', 'Trinidad and Tobago', 'United States of America']\n",
    "    South_America = ['Argentina', 'Bolivia', 'Brazil', 'Chile', 'Colombia', 'Ecuador', 'Guyana', 'Paraguay', 'Peru', 'Suriname', 'Uruguay', 'Venezuela']\n",
    "    Oceania = ['Australia', 'Cook Islands', 'Fiji', 'Kiribati', 'Marshall Islands', 'Micronesia', 'Nauru', 'New Zealand', 'Niue', 'Palau', 'Papua New Guinea', 'Samoa', 'Solomon Islands', 'Tonga', 'Tuvalu', 'Vanuatu']\n",
    "    male_values = []\n",
    "    female_values = []\n",
    "    both_values = []\n",
    "    countries = []\n",
    "    if continent == 'Asia':\n",
    "        countries = Asia\n",
    "    if continent == 'Africa':\n",
    "        countries = Africa\n",
    "    if continent == 'Europe':\n",
    "        countries = Europe\n",
    "    if continent == 'North America':\n",
    "        countries = North_America\n",
    "    if continent == 'South America':\n",
    "        countries = South_America\n",
    "    if continent == 'Oceania':\n",
    "        countries = Oceania\n",
    "    for index, row in df.iterrows():\n",
    "        if df['Country'][index] in countries and df['Sex'][index] == 'Male' and df['Year'][index] == year:\n",
    "            male_values.append(df['Obesity (%)'][index])\n",
    "            male_count += 1\n",
    "        if df['Country'][index] in countries and df['Sex'][index] == 'Female' and df['Year'][index] == year:\n",
    "            female_values.append(df['Obesity (%)'][index])\n",
    "            female_count += 1\n",
    "        if df['Country'][index] in countries and df['Sex'][index] == 'Both sexes' and df['Year'][index] == year:\n",
    "            both_values.append(df['Obesity (%)'][index])\n",
    "            both_count += 1\n",
    "    male_values = sum(male_values) / male_count\n",
    "    female_values = sum(female_values) / female_count\n",
    "    both_values = sum(both_values) / both_count\n",
    "    return male_values, female_values, both_values"
   ]
  },
  {
   "cell_type": "code",
   "execution_count": 35,
   "metadata": {},
   "outputs": [],
   "source": [
    "# Use the average_obesity_rate_by_continent function for the fourth question\n",
    "south_america_male, south_america_female, south_america_both = average_obesity_rate_by_continent(obesity, 2016, 'South America')\n",
    "north_america_male, north_america_female, north_america_both = average_obesity_rate_by_continent(obesity, 2016, 'North America')\n",
    "africa_male, africa_female, africa_both = average_obesity_rate_by_continent(obesity, 2016, 'Africa')\n",
    "asia_male, asia_female, asia_both = average_obesity_rate_by_continent(obesity, 2016, 'Asia')\n",
    "oceania_male, oceania_female, oceania_both = average_obesity_rate_by_continent(obesity, 2016, 'Oceania')\n",
    "europe_male, europe_female, europe_both = average_obesity_rate_by_continent(obesity, 2016, 'Europe')"
   ]
  },
  {
   "cell_type": "code",
   "execution_count": 36,
   "metadata": {},
   "outputs": [],
   "source": [
    "# Combining values for the overall pie chart for the fourth question\n",
    "north_america = north_america_male + north_america_female + north_america_both\n",
    "south_america = south_america_male + south_america_female + south_america_both\n",
    "africa = africa_male + africa_female + africa_both\n",
    "europe = europe_male + europe_female + europe_both\n",
    "asia = asia_male + asia_female + asia_both\n",
    "oceania = oceania_male + oceania_female + oceania_both"
   ]
  },
  {
   "cell_type": "code",
   "execution_count": 37,
   "metadata": {},
   "outputs": [],
   "source": [
    "# Calculates average obesity percentages for each sex in every year\n",
    "world_male = []\n",
    "world_female = []\n",
    "world_both = []\n",
    "for col in obesity_raw.columns:\n",
    "    string = str(col)\n",
    "    if string != 'Country':\n",
    "        if '.1' in string:\n",
    "            world_male.append(obesity_raw[col].mean())\n",
    "        elif '.2' in string:\n",
    "            world_female.append(obesity_raw[col].mean())\n",
    "        else:\n",
    "            world_both.append(obesity_raw[col].mean())\n",
    "world_male.reverse()\n",
    "world_female.reverse()\n",
    "world_both.reverse()"
   ]
  },
  {
   "cell_type": "markdown",
   "metadata": {},
   "source": [
    "# 4. Analysis and Solutions"
   ]
  },
  {
   "cell_type": "markdown",
   "metadata": {},
   "source": [
    "### Question 1. Which country has the highest obesity rate in the world and in what year for males? For females? For both sexes? Which country has the lowest obesity rate in the world and in what year for males? For females? For both sexes?"
   ]
  },
  {
   "cell_type": "markdown",
   "metadata": {},
   "source": [
    "#### Answer 1. Nauru has the highest obesity percentages in the world for males with a percentage of 58.7%, for females with a percentage of 63.3%, and for both sexes with a percentage of 61.0%. All of these percentages are from the year 2016. Vietnam has the lowest obesity percentages in the world for males with a percentage of 0.1% from the year 1981, for females with a percentage of 0.2% from the year 1976, and for both sexes with a percentage of 0.1% from the year 1976."
   ]
  },
  {
   "cell_type": "code",
   "execution_count": 38,
   "metadata": {},
   "outputs": [
    {
     "data": {
      "text/plain": [
       "['Nauru']"
      ]
     },
     "execution_count": 38,
     "metadata": {},
     "output_type": "execute_result"
    }
   ],
   "source": [
    "highest_male"
   ]
  },
  {
   "cell_type": "code",
   "execution_count": 39,
   "metadata": {},
   "outputs": [
    {
     "data": {
      "text/plain": [
       "[58.7]"
      ]
     },
     "execution_count": 39,
     "metadata": {},
     "output_type": "execute_result"
    }
   ],
   "source": [
    "highest_male_values"
   ]
  },
  {
   "cell_type": "code",
   "execution_count": 40,
   "metadata": {},
   "outputs": [
    {
     "data": {
      "text/plain": [
       "[2016]"
      ]
     },
     "execution_count": 40,
     "metadata": {},
     "output_type": "execute_result"
    }
   ],
   "source": [
    "highest_male_years"
   ]
  },
  {
   "cell_type": "code",
   "execution_count": 41,
   "metadata": {},
   "outputs": [
    {
     "data": {
      "text/plain": [
       "['Nauru']"
      ]
     },
     "execution_count": 41,
     "metadata": {},
     "output_type": "execute_result"
    }
   ],
   "source": [
    "highest_female"
   ]
  },
  {
   "cell_type": "code",
   "execution_count": 42,
   "metadata": {},
   "outputs": [
    {
     "data": {
      "text/plain": [
       "[63.3]"
      ]
     },
     "execution_count": 42,
     "metadata": {},
     "output_type": "execute_result"
    }
   ],
   "source": [
    "highest_female_values"
   ]
  },
  {
   "cell_type": "code",
   "execution_count": 43,
   "metadata": {},
   "outputs": [
    {
     "data": {
      "text/plain": [
       "[2016]"
      ]
     },
     "execution_count": 43,
     "metadata": {},
     "output_type": "execute_result"
    }
   ],
   "source": [
    "highest_female_years"
   ]
  },
  {
   "cell_type": "code",
   "execution_count": 44,
   "metadata": {},
   "outputs": [
    {
     "data": {
      "text/plain": [
       "['Nauru']"
      ]
     },
     "execution_count": 44,
     "metadata": {},
     "output_type": "execute_result"
    }
   ],
   "source": [
    "highest_both"
   ]
  },
  {
   "cell_type": "code",
   "execution_count": 45,
   "metadata": {},
   "outputs": [
    {
     "data": {
      "text/plain": [
       "[61.0]"
      ]
     },
     "execution_count": 45,
     "metadata": {},
     "output_type": "execute_result"
    }
   ],
   "source": [
    "highest_both_values"
   ]
  },
  {
   "cell_type": "code",
   "execution_count": 46,
   "metadata": {},
   "outputs": [
    {
     "data": {
      "text/plain": [
       "[2016]"
      ]
     },
     "execution_count": 46,
     "metadata": {},
     "output_type": "execute_result"
    }
   ],
   "source": [
    "highest_both_years"
   ]
  },
  {
   "cell_type": "code",
   "execution_count": 47,
   "metadata": {},
   "outputs": [
    {
     "data": {
      "image/png": "[encoded data removed]",
      "text/plain": [
       "<Figure size 432x288 with 1 Axes>"
      ]
     },
     "metadata": {
      "needs_background": "light"
     },
     "output_type": "display_data"
    }
   ],
   "source": [
    "# This is to create the bar chart for the country with the highest obesity percentages in the world\n",
    "countries = ['Male', 'Female', 'Both Sexes']\n",
    "values = np.array([highest_male_values[0], highest_female_values[0], highest_both_values[0]])\n",
    "plt.bar(countries, values, color = ['blue', 'red', 'yellow'])\n",
    "plt.title('Obesity Percentages for Nauru in 2016')\n",
    "plt.xlabel('Sexes')\n",
    "plt.ylabel('Obesity Percentages (%)')\n",
    "plt.grid(axis = 'both', alpha = 0.5)\n",
    "plt.tight_layout()\n",
    "plt.show()"
   ]
  },
  {
   "cell_type": "markdown",
   "metadata": {},
   "source": [
    "#### The above bar chart shows that the country of Nauru has the highest obesity percentages in the world for males with a percentage of 58.7%, for females with a percentage of 63.3%, and for both sexes with a percentage of 61.0%. All of these percentages are from the year 2016. Nauru is a small island in the Pacific Ocean that is northeast of Australia. It is considered to be the least visited country in the world. "
   ]
  },
  {
   "cell_type": "code",
   "execution_count": 48,
   "metadata": {},
   "outputs": [
    {
     "data": {
      "text/plain": [
       "['Vietnam']"
      ]
     },
     "execution_count": 48,
     "metadata": {},
     "output_type": "execute_result"
    }
   ],
   "source": [
    "lowest_male"
   ]
  },
  {
   "cell_type": "code",
   "execution_count": 49,
   "metadata": {},
   "outputs": [
    {
     "data": {
      "text/plain": [
       "[0.1]"
      ]
     },
     "execution_count": 49,
     "metadata": {},
     "output_type": "execute_result"
    }
   ],
   "source": [
    "lowest_male_values"
   ]
  },
  {
   "cell_type": "code",
   "execution_count": 50,
   "metadata": {},
   "outputs": [
    {
     "data": {
      "text/plain": [
       "[1981]"
      ]
     },
     "execution_count": 50,
     "metadata": {},
     "output_type": "execute_result"
    }
   ],
   "source": [
    "lowest_male_years"
   ]
  },
  {
   "cell_type": "code",
   "execution_count": 51,
   "metadata": {},
   "outputs": [
    {
     "data": {
      "text/plain": [
       "['Vietnam']"
      ]
     },
     "execution_count": 51,
     "metadata": {},
     "output_type": "execute_result"
    }
   ],
   "source": [
    "lowest_female"
   ]
  },
  {
   "cell_type": "code",
   "execution_count": 52,
   "metadata": {},
   "outputs": [
    {
     "data": {
      "text/plain": [
       "[0.2]"
      ]
     },
     "execution_count": 52,
     "metadata": {},
     "output_type": "execute_result"
    }
   ],
   "source": [
    "lowest_female_values"
   ]
  },
  {
   "cell_type": "code",
   "execution_count": 53,
   "metadata": {},
   "outputs": [
    {
     "data": {
      "text/plain": [
       "[1976]"
      ]
     },
     "execution_count": 53,
     "metadata": {},
     "output_type": "execute_result"
    }
   ],
   "source": [
    "lowest_female_years"
   ]
  },
  {
   "cell_type": "code",
   "execution_count": 54,
   "metadata": {},
   "outputs": [
    {
     "data": {
      "text/plain": [
       "['Vietnam']"
      ]
     },
     "execution_count": 54,
     "metadata": {},
     "output_type": "execute_result"
    }
   ],
   "source": [
    "lowest_both"
   ]
  },
  {
   "cell_type": "code",
   "execution_count": 55,
   "metadata": {},
   "outputs": [
    {
     "data": {
      "text/plain": [
       "[0.1]"
      ]
     },
     "execution_count": 55,
     "metadata": {},
     "output_type": "execute_result"
    }
   ],
   "source": [
    "lowest_both_values"
   ]
  },
  {
   "cell_type": "code",
   "execution_count": 56,
   "metadata": {},
   "outputs": [
    {
     "data": {
      "text/plain": [
       "[1976]"
      ]
     },
     "execution_count": 56,
     "metadata": {},
     "output_type": "execute_result"
    }
   ],
   "source": [
    "lowest_both_years"
   ]
  },
  {
   "cell_type": "code",
   "execution_count": 57,
   "metadata": {},
   "outputs": [
    {
     "data": {
      "image/png": "[encoded data removed]",
      "text/plain": [
       "<Figure size 432x288 with 1 Axes>"
      ]
     },
     "metadata": {
      "needs_background": "light"
     },
     "output_type": "display_data"
    }
   ],
   "source": [
    "# This is to create the bar chart for the country with the lowest obesity percentages in the world\n",
    "countries = ['Male - 1981', 'Female - 1976', 'Both Sexes - 1976']\n",
    "values = np.array([lowest_male_values[0], lowest_female_values[0], lowest_both_values[0]])\n",
    "plt.bar(countries, values, color = ['orange', 'gray', 'brown'])\n",
    "plt.title('Obesity Percentages for Vietnam')\n",
    "plt.xlabel('Sexes')\n",
    "plt.ylabel('Obesity Percentages (%)')\n",
    "plt.grid(axis = 'both', alpha = 0.5)\n",
    "plt.tight_layout()\n",
    "plt.show()"
   ]
  },
  {
   "cell_type": "markdown",
   "metadata": {},
   "source": [
    "#### The above bar chart shows that the country of Vietnam has the lowest obesity percentages in the world for males with a percentage of 0.1% from the year 1981, for females with a percentage of 0.2% from the year 1976, and for both sexes with a percentage of 0.1% from the year 1976. Vietnam is located in southeast Asia bordered by Cambodia, Laos, and the South China Sea."
   ]
  },
  {
   "cell_type": "markdown",
   "metadata": {},
   "source": [
    "### Question 2. Which five different countries have the highest obesity rates in the world and in what year for males? For females? For both sexes? Which five different countries have the lowest obesity rates in the world and in what year for males? For females? For both sexes?"
   ]
  },
  {
   "cell_type": "markdown",
   "metadata": {},
   "source": [
    "#### Answer 2. Nauru has the highest obesity percentages in the world for males with a percentage of 58.7%, for females with a percentage of 63.3%, and for both sexes with a percentage of 61.0%. The Cook Islands have the second highest obesity percentages in the world for males with a percentage of 52.6%, for females with a percentage of 59.2%, and for both sexes with a percentage of 55.9%. Palau has the third highest obesity percentages in the world for males with a percentage of 51.8%, for females with a percentage of 58.8%, and for both sexes with a percentage of 55.3%. The Marshall Islands have the fourth highest obesity percentages in the world for males with a percentage of 48.4%, for females with a percentage of 57.3%, and for both sexes with a percentage of 52.9%. Tuvalu has the fifth highest obesity percentages in the world for males with a percentage of 47.0%, for females with a percentage of 56.2%, and for both sexes with a percentage of 51.6%. All of these percentages are from the year 2016. Vietnam has the lowest obesity percentages in the world for males with a percentage of 0.1% from the year 1981, for females with a percentage of 0.2% from the year 1976, and for both sexes with a percentage of 0.1% from the year 1976. Timor-Leste has the second lowest obesity percentages in the world for males with a percentage of 0.1% from the year 1977, for females with a percentage of 0.4% from the year 1975, and for both sexes with a percentage of 0.2% from the year 1975. Rwanda has the third lowest obesity percentage in the world for males with a percentage of 0.1% from the year 1979. Bangladesh has the third lowest obesity percentages in the world for females with a percentage of 0.4% from the year 1977 and for both sexes with a percentage of 0.2% from the year 1975. Cambodia has the fourth lowest obesity percentages in the world for males with a percentage of 0.1% from the year 1978 and for females with a percentage of 0.4% from the year 1975. India has the fourth lowest obesity percentage in the world for both sexes with a percentage of 0.3% from the year 1975. Indonesia has the fifth lowest obesity percentage in the world for males with a percentage of 0.1% from the year 1975. Nepal has the fifth lowest obesity percentage in the world for females with a percentage of 0.4% from the year 1975. Cambodia has the fifth lowest obesity percentage in the world for both sexes with a percentage of 0.3% from the year 1976."
   ]
  },
  {
   "cell_type": "code",
   "execution_count": 58,
   "metadata": {},
   "outputs": [
    {
     "data": {
      "text/plain": [
       "['Nauru', 'Cook Islands', 'Palau', 'Marshall Islands', 'Tuvalu']"
      ]
     },
     "execution_count": 58,
     "metadata": {},
     "output_type": "execute_result"
    }
   ],
   "source": [
    "high_male"
   ]
  },
  {
   "cell_type": "code",
   "execution_count": 59,
   "metadata": {},
   "outputs": [
    {
     "data": {
      "text/plain": [
       "[58.7, 52.6, 51.8, 48.4, 47.0]"
      ]
     },
     "execution_count": 59,
     "metadata": {},
     "output_type": "execute_result"
    }
   ],
   "source": [
    "high_male_values"
   ]
  },
  {
   "cell_type": "code",
   "execution_count": 60,
   "metadata": {},
   "outputs": [
    {
     "data": {
      "text/plain": [
       "[2016, 2016, 2016, 2016, 2016]"
      ]
     },
     "execution_count": 60,
     "metadata": {},
     "output_type": "execute_result"
    }
   ],
   "source": [
    "high_male_years"
   ]
  },
  {
   "cell_type": "code",
   "execution_count": 61,
   "metadata": {},
   "outputs": [
    {
     "data": {
      "text/plain": [
       "['Nauru', 'Cook Islands', 'Palau', 'Marshall Islands', 'Tuvalu']"
      ]
     },
     "execution_count": 61,
     "metadata": {},
     "output_type": "execute_result"
    }
   ],
   "source": [
    "high_female"
   ]
  },
  {
   "cell_type": "code",
   "execution_count": 62,
   "metadata": {},
   "outputs": [
    {
     "data": {
      "text/plain": [
       "[63.3, 59.2, 58.8, 57.3, 56.2]"
      ]
     },
     "execution_count": 62,
     "metadata": {},
     "output_type": "execute_result"
    }
   ],
   "source": [
    "high_female_values"
   ]
  },
  {
   "cell_type": "code",
   "execution_count": 63,
   "metadata": {},
   "outputs": [
    {
     "data": {
      "text/plain": [
       "[2016, 2016, 2016, 2016, 2016]"
      ]
     },
     "execution_count": 63,
     "metadata": {},
     "output_type": "execute_result"
    }
   ],
   "source": [
    "high_female_years"
   ]
  },
  {
   "cell_type": "code",
   "execution_count": 64,
   "metadata": {},
   "outputs": [
    {
     "data": {
      "text/plain": [
       "['Nauru', 'Cook Islands', 'Palau', 'Marshall Islands', 'Tuvalu']"
      ]
     },
     "execution_count": 64,
     "metadata": {},
     "output_type": "execute_result"
    }
   ],
   "source": [
    "high_both"
   ]
  },
  {
   "cell_type": "code",
   "execution_count": 65,
   "metadata": {},
   "outputs": [
    {
     "data": {
      "text/plain": [
       "[61.0, 55.9, 55.3, 52.9, 51.6]"
      ]
     },
     "execution_count": 65,
     "metadata": {},
     "output_type": "execute_result"
    }
   ],
   "source": [
    "high_both_values"
   ]
  },
  {
   "cell_type": "code",
   "execution_count": 66,
   "metadata": {},
   "outputs": [
    {
     "data": {
      "text/plain": [
       "[2016, 2016, 2016, 2016, 2016]"
      ]
     },
     "execution_count": 66,
     "metadata": {},
     "output_type": "execute_result"
    }
   ],
   "source": [
    "high_both_years"
   ]
  },
  {
   "cell_type": "code",
   "execution_count": 67,
   "metadata": {},
   "outputs": [],
   "source": [
    "# These are the values for the stacked bar chart\n",
    "male_values = np.array([high_male_values[0], high_male_values[1], high_male_values[2], high_male_values[3], high_male_values[4]])\n",
    "female_values = np.array([high_female_values[0], high_female_values[1], high_female_values[2], high_female_values[3], high_female_values[4]])\n",
    "both_values = np.array([high_both_values[0], high_both_values[1], high_both_values[2], high_both_values[3], high_both_values[4]])\n",
    "countries = np.array(['Nauru', 'Cook Islands', 'Palau', 'Marshall Islands', 'Tuvalu'])\n",
    "bars = np.add(male_values, female_values.tolist())"
   ]
  },
  {
   "cell_type": "code",
   "execution_count": 68,
   "metadata": {},
   "outputs": [
    {
     "data": {
      "image/png": "[encoded data removed]",
      "text/plain": [
       "<Figure size 432x288 with 1 Axes>"
      ]
     },
     "metadata": {
      "needs_background": "light"
     },
     "output_type": "display_data"
    }
   ],
   "source": [
    "# This is to create the stacked bar chart for the top five different countries in obesity percentages in the world\n",
    "p1 = plt.bar(countries, male_values, color = 'blue', width = 0.5)\n",
    "p2 = plt.bar(countries, female_values, bottom = male_values, color = 'red', width = 0.5)\n",
    "p3 = plt.bar(countries, both_values, bottom = bars, color = 'green', width = 0.5)\n",
    "plt.ylabel('Obesity Percentages (%)')\n",
    "plt.xlabel('Countries')\n",
    "plt.legend((p1[0], p2[0], p3[0]), ('Male', 'Female', 'Both Sexes'), prop = {'size': 8})\n",
    "plt.title('Top Five Countries in Obesity Percentages in 2016')\n",
    "plt.grid(axis = 'both', alpha = 0.5)\n",
    "plt.show()"
   ]
  },
  {
   "cell_type": "markdown",
   "metadata": {},
   "source": [
    "#### The above bar chart shows the top five countries in obesity percentages in the world for all sexes. All of these values are from 2016. Nauru has a percentage of 58.7% for males, percentage of 63.3% for females, and a percentage of 61.0% for both sexes. The Cook Islands have a percentage of 52.6% for males, percentage of 59.2% for females, and a percentage of 55.9% for both sexes. Palau has a percentage of 51.8% for males, a percentage of 58.8% for females, and a percentage of 55.3% for both sexes. The Marshall Islands have a percentage of 48.4% for males, a percentage of 57.3% for females, and a percentage of 52.9% for both sexes. Tuvalu has a percentage of 47.0% for males, a percentage of 56.2% for females, and a percentage of 51.6% for both sexes. "
   ]
  },
  {
   "cell_type": "code",
   "execution_count": 69,
   "metadata": {},
   "outputs": [
    {
     "data": {
      "text/plain": [
       "['Vietnam', 'Timor-Leste', 'Rwanda', 'Cambodia', 'Indonesia']"
      ]
     },
     "execution_count": 69,
     "metadata": {},
     "output_type": "execute_result"
    }
   ],
   "source": [
    "low_male"
   ]
  },
  {
   "cell_type": "code",
   "execution_count": 70,
   "metadata": {},
   "outputs": [
    {
     "data": {
      "text/plain": [
       "[0.1, 0.1, 0.1, 0.1, 0.1]"
      ]
     },
     "execution_count": 70,
     "metadata": {},
     "output_type": "execute_result"
    }
   ],
   "source": [
    "low_male_values"
   ]
  },
  {
   "cell_type": "code",
   "execution_count": 71,
   "metadata": {},
   "outputs": [
    {
     "data": {
      "text/plain": [
       "[1981, 1977, 1979, 1978, 1975]"
      ]
     },
     "execution_count": 71,
     "metadata": {},
     "output_type": "execute_result"
    }
   ],
   "source": [
    "low_male_years"
   ]
  },
  {
   "cell_type": "code",
   "execution_count": 72,
   "metadata": {},
   "outputs": [
    {
     "data": {
      "image/png": "[encoded data removed]",
      "text/plain": [
       "<Figure size 432x288 with 1 Axes>"
      ]
     },
     "metadata": {
      "needs_background": "light"
     },
     "output_type": "display_data"
    }
   ],
   "source": [
    "# This is to create the bar chart for the bottom five different countries in obesity percentages in the world for males\n",
    "countries = ['Vietnam - 1981', 'Timor-Leste - 1977', 'Rwanda - 1979', 'Cambodia - 1978', 'Indonesia - 1975']\n",
    "values = np.array([low_male_values[0], low_male_values[1], low_male_values[2], low_male_values[3], low_male_values[4]])\n",
    "plt.bar(countries, values, color = ['brown', 'black', 'magenta', 'orange', 'pink'])\n",
    "plt.title('Bottom Five Countries in Obesity Percentages For Males')\n",
    "plt.xlabel('Countries')\n",
    "plt.ylabel('Obesity Percentages (%)')\n",
    "plt.grid(axis = 'both', alpha = 0.5)\n",
    "plt.tick_params(axis = 'x', which = 'major', labelsize = 8)\n",
    "plt.tight_layout()\n",
    "plt.show()"
   ]
  },
  {
   "cell_type": "markdown",
   "metadata": {},
   "source": [
    "#### The above bar chart shows the bottom five countries in obesity percentages in the world for males. Vietnam in 1981 has a percentage of 0.1%, Timor-Leste in 1977 has a percentage of 0.1%, Rwanda in 1979 has a percentage of 0.1%, Cambodia in 1978 has a percentage of 0.1%, and Indonesia in 1975 has a percentage of 0.1%."
   ]
  },
  {
   "cell_type": "code",
   "execution_count": 73,
   "metadata": {},
   "outputs": [
    {
     "data": {
      "text/plain": [
       "['Vietnam', 'Timor-Leste', 'Bangladesh', 'Cambodia', 'Nepal']"
      ]
     },
     "execution_count": 73,
     "metadata": {},
     "output_type": "execute_result"
    }
   ],
   "source": [
    "low_female"
   ]
  },
  {
   "cell_type": "code",
   "execution_count": 74,
   "metadata": {},
   "outputs": [
    {
     "data": {
      "text/plain": [
       "[0.2, 0.4, 0.4, 0.4, 0.4]"
      ]
     },
     "execution_count": 74,
     "metadata": {},
     "output_type": "execute_result"
    }
   ],
   "source": [
    "low_female_values"
   ]
  },
  {
   "cell_type": "code",
   "execution_count": 75,
   "metadata": {},
   "outputs": [
    {
     "data": {
      "text/plain": [
       "[1976, 1975, 1977, 1975, 1975]"
      ]
     },
     "execution_count": 75,
     "metadata": {},
     "output_type": "execute_result"
    }
   ],
   "source": [
    "low_female_years"
   ]
  },
  {
   "cell_type": "code",
   "execution_count": 76,
   "metadata": {},
   "outputs": [
    {
     "data": {
      "image/png": "[encoded data removed]",
      "text/plain": [
       "<Figure size 432x288 with 1 Axes>"
      ]
     },
     "metadata": {
      "needs_background": "light"
     },
     "output_type": "display_data"
    }
   ],
   "source": [
    "# This is to create the bar chart for the bottom five different countries in obesity percentages in the world for females\n",
    "countries = ['Vietnam - 1976', 'Timor-Leste - 1975', 'Bangladesh - 1977', 'Cambodia - 1975', 'Nepal - 1975']\n",
    "values = np.array([low_female_values[0], low_female_values[1], low_female_values[2], low_female_values[3], low_female_values[4]])\n",
    "plt.bar(countries, values, color = ['red', 'cyan', 'blue', 'green', 'brown'])\n",
    "plt.title('Bottom Five Countries in Obesity Percentages For Females')\n",
    "plt.xlabel('Countries')\n",
    "plt.ylabel('Obesity Percentages (%)')\n",
    "plt.grid(axis = 'both', alpha = 0.5)\n",
    "plt.tick_params(axis = 'x', which = 'major', labelsize = 7)\n",
    "plt.tight_layout()\n",
    "plt.show()"
   ]
  },
  {
   "cell_type": "markdown",
   "metadata": {},
   "source": [
    "#### The above bar chart shows the bottom five countries in obesity percentages in the world for females. Vietnam in 1976 has a percentage of 0.2%, Timor-Leste in 1975 has a percentage of 0.4%, Bangladesh in 1977 has a percentage of 0.4%, Cambodia in 1975 has a percentage of 0.4%, and Nepal in 1975 has a percentage of 0.4%."
   ]
  },
  {
   "cell_type": "code",
   "execution_count": 77,
   "metadata": {},
   "outputs": [
    {
     "data": {
      "text/plain": [
       "['Vietnam', 'Timor-Leste', 'Bangladesh', 'India', 'Cambodia']"
      ]
     },
     "execution_count": 77,
     "metadata": {},
     "output_type": "execute_result"
    }
   ],
   "source": [
    "low_both"
   ]
  },
  {
   "cell_type": "code",
   "execution_count": 78,
   "metadata": {},
   "outputs": [
    {
     "data": {
      "text/plain": [
       "[0.1, 0.2, 0.2, 0.3, 0.3]"
      ]
     },
     "execution_count": 78,
     "metadata": {},
     "output_type": "execute_result"
    }
   ],
   "source": [
    "low_both_values"
   ]
  },
  {
   "cell_type": "code",
   "execution_count": 79,
   "metadata": {},
   "outputs": [
    {
     "data": {
      "text/plain": [
       "[1976, 1975, 1975, 1975, 1976]"
      ]
     },
     "execution_count": 79,
     "metadata": {},
     "output_type": "execute_result"
    }
   ],
   "source": [
    "low_both_years"
   ]
  },
  {
   "cell_type": "code",
   "execution_count": 80,
   "metadata": {},
   "outputs": [
    {
     "data": {
      "image/png": "[encoded data removed]",
      "text/plain": [
       "<Figure size 432x288 with 1 Axes>"
      ]
     },
     "metadata": {
      "needs_background": "light"
     },
     "output_type": "display_data"
    }
   ],
   "source": [
    "# This is to create the bar chart for the bottom five different countries in obesity percentages in the world for both sexes\n",
    "countries = ['Vietnam - 1976', 'Timor-Leste - 1975', 'Bangladesh - 1975', 'India - 1975', 'Cambodia - 1976']\n",
    "values = np.array([low_both_values[0], low_both_values[1], low_both_values[2], low_both_values[3], low_both_values[4]])\n",
    "plt.bar(countries, values, color = ['orange', 'yellow', 'red', 'blue', 'green'])\n",
    "plt.title('Bottom Five Countries in Obesity Percentages For Both Sexes')\n",
    "plt.xlabel('Countries')\n",
    "plt.ylabel('Obesity Percentages (%)')\n",
    "plt.grid(axis = 'both', alpha = 0.5)\n",
    "plt.tick_params(axis = 'x', which = 'major', labelsize = 7)\n",
    "plt.tight_layout()\n",
    "plt.show()"
   ]
  },
  {
   "cell_type": "markdown",
   "metadata": {},
   "source": [
    "#### The above bar chart shows the bottom five countries in obesity percentages in the world for both sexes. Vietnam in 1976 has a percentage of 0.1%, Timor-Leste in 1975 has a percentage of 0.2%, Bangladesh in 1975 has a percentage of 0.2%, India in 1975 has a percentage of 0.3%, and Cambodia in 1976 has a percentage of 0.3%."
   ]
  },
  {
   "cell_type": "markdown",
   "metadata": {},
   "source": [
    "### Question 3. What are the top five years in obesity rates in South America for males? For females? For both sexes? What are the bottom five years in obesity rates in South America for males? For females? For both sexes?"
   ]
  },
  {
   "cell_type": "markdown",
   "metadata": {},
   "source": [
    "#### Answer 3. The year 2012 has an average obesity percentage of 17.13% for males, 25.54% for females, and 21.49% for both sexes. The year 2013 has an average obesity percentage of 17.6% for males, 26.04% for females, and 21.96% for both sexes. The year 2014 has an average obesity percentage of 18.08% for males, 26.5% for females, and 22.45% for both sexes. The year 2015 has an average obesity percentage of 18.58% for males, 26.98% for females, and 22.93% for both sexes. The year 2016 has an average obesity percentage of 19.08% for males, 27.49% for females, and 23.41% for both sexes. The year 1975 has an average obesity percentage of 4.37% for males, 10.14% for females, and 7.34% for both sexes. The year 1976 has an average obesity percentage of 4.57% for males, 10.48% for females, and 7.62% for both sexes. The year 1977 has an average obesity percentage of 4.78% for males, 10.83% for females, and 7.88% for both sexes. The year 1978 has an average obesity percentage of 5.02% for males, 11.2% for females, and 8.19% for both sexes. The year 1979 has an average obesity percentage of 5.26% for males, 11.57% for females, and 8.48% for both sexes. "
   ]
  },
  {
   "cell_type": "code",
   "execution_count": 81,
   "metadata": {},
   "outputs": [
    {
     "data": {
      "text/plain": [
       "[[19.075, '2016'],\n",
       " [18.583333333333332, '2015'],\n",
       " [18.075, '2014'],\n",
       " [17.599999999999998, '2013'],\n",
       " [17.125, '2012']]"
      ]
     },
     "execution_count": 81,
     "metadata": {},
     "output_type": "execute_result"
    }
   ],
   "source": [
    "years_male[0:5]"
   ]
  },
  {
   "cell_type": "code",
   "execution_count": 82,
   "metadata": {},
   "outputs": [
    {
     "data": {
      "text/plain": [
       "[[5.258333333333334, '1979'],\n",
       " [5.016666666666667, '1978'],\n",
       " [4.783333333333333, '1977'],\n",
       " [4.574999999999999, '1976'],\n",
       " [4.366666666666666, '1975']]"
      ]
     },
     "execution_count": 82,
     "metadata": {},
     "output_type": "execute_result"
    }
   ],
   "source": [
    "years_male[-5:len(years_male)]"
   ]
  },
  {
   "cell_type": "code",
   "execution_count": 83,
   "metadata": {},
   "outputs": [
    {
     "data": {
      "text/plain": [
       "[[27.49166666666667, '2016'],\n",
       " [26.983333333333334, '2015'],\n",
       " [26.499999999999996, '2014'],\n",
       " [26.04166666666667, '2013'],\n",
       " [25.541666666666668, '2012']]"
      ]
     },
     "execution_count": 83,
     "metadata": {},
     "output_type": "execute_result"
    }
   ],
   "source": [
    "years_female[0:5]"
   ]
  },
  {
   "cell_type": "code",
   "execution_count": 84,
   "metadata": {},
   "outputs": [
    {
     "data": {
      "text/plain": [
       "[[11.566666666666665, '1979'],\n",
       " [11.200000000000001, '1978'],\n",
       " [10.833333333333334, '1977'],\n",
       " [10.475, '1976'],\n",
       " [10.141666666666666, '1975']]"
      ]
     },
     "execution_count": 84,
     "metadata": {},
     "output_type": "execute_result"
    }
   ],
   "source": [
    "years_female[-5:len(years_female)]"
   ]
  },
  {
   "cell_type": "code",
   "execution_count": 85,
   "metadata": {},
   "outputs": [
    {
     "data": {
      "text/plain": [
       "[[23.40833333333333, '2016'],\n",
       " [22.933333333333337, '2015'],\n",
       " [22.45, '2014'],\n",
       " [21.958333333333332, '2013'],\n",
       " [21.491666666666664, '2012']]"
      ]
     },
     "execution_count": 85,
     "metadata": {},
     "output_type": "execute_result"
    }
   ],
   "source": [
    "years_both[0:5]"
   ]
  },
  {
   "cell_type": "code",
   "execution_count": 86,
   "metadata": {},
   "outputs": [
    {
     "data": {
      "text/plain": [
       "[[8.483333333333333, '1979'],\n",
       " [8.191666666666668, '1978'],\n",
       " [7.883333333333334, '1977'],\n",
       " [7.616666666666667, '1976'],\n",
       " [7.341666666666666, '1975']]"
      ]
     },
     "execution_count": 86,
     "metadata": {},
     "output_type": "execute_result"
    }
   ],
   "source": [
    "years_both[-5:len(years_both)]"
   ]
  },
  {
   "cell_type": "code",
   "execution_count": 87,
   "metadata": {},
   "outputs": [
    {
     "data": {
      "image/png": "[encoded data removed]",
      "text/plain": [
       "<Figure size 432x288 with 1 Axes>"
      ]
     },
     "metadata": {},
     "output_type": "display_data"
    }
   ],
   "source": [
    "# Create box-and-whisker-plot for the top five years in obesity percentages in South America\n",
    "sb.set_style('white')\n",
    "g = sb.boxplot(x = 'Year', y = 'Obesity (%)', hue = 'Sex', data = df_high, linewidth = 2).set_title('Top Five Years in Obesity Percentages in South America')\n",
    "plt.legend(bbox_to_anchor = (1.05, 1), loc = 2, borderaxespad = 0, title = 'Sex')\n",
    "plt.show()"
   ]
  },
  {
   "cell_type": "markdown",
   "metadata": {},
   "source": [
    "#### The above box-and-whisker plot shows the averages for the top five years in obesity percentages in South America. The year 2012 has an average obesity percentage of 17.13% for males, 25.54% for females, and 21.49% for both sexes. The year 2013 has an average obesity percentage of 17.6% for males, 26.04% for females, and 21.96% for both sexes. The year 2014 has an average obesity percentage of 18.08% for males, 26.5% for females, and 22.45% for both sexes. The year 2015 has an average obesity percentage of 18.58% for males, 26.98% for females, and 22.93% for both sexes. The year 2016 has an average obesity percentage of 19.08% for males, 27.49% for females, and 23.41% for both sexes. "
   ]
  },
  {
   "cell_type": "code",
   "execution_count": 88,
   "metadata": {},
   "outputs": [
    {
     "data": {
      "image/png": "[encoded data removed]",
      "text/plain": [
       "<Figure size 432x288 with 1 Axes>"
      ]
     },
     "metadata": {},
     "output_type": "display_data"
    }
   ],
   "source": [
    "# Create box-and-whisker-plot for the bottom five years in obesity percentages in South America\n",
    "sb.set_style('white')\n",
    "g = sb.boxplot(x = 'Year', y = 'Obesity (%)', hue = 'Sex', data = df_low, linewidth = 2).set_title('Bottom Five Years in Obesity Percentages in South America')\n",
    "plt.legend(bbox_to_anchor = (1.05, 1), loc = 2, borderaxespad = 0, title = 'Sex')\n",
    "plt.show()"
   ]
  },
  {
   "cell_type": "markdown",
   "metadata": {},
   "source": [
    "#### The above box-and-whisker plot shows the averages for the bottom five years in obesity percentages in South America. The year 1975 has an average obesity percentage of 4.37% for males, 10.14% for females, and 7.34% for both sexes. The year 1976 has an average obesity percentage of 4.57% for males, 10.48% for females, and 7.62% for both sexes. The year 1977 has an average obesity percentage of 4.78% for males, 10.83% for females, and 7.88% for both sexes. The year 1978 has an average obesity percentage of 5.02% for males, 11.2% for females, and 8.19% for both sexes. The year 1979 has an average obesity percentage of 5.26% for males, 11.57% for females, and 8.48% for both sexes. "
   ]
  },
  {
   "cell_type": "markdown",
   "metadata": {},
   "source": [
    "### Question 4. What are the percentage breakdowns in average obesity rates for each continent for males in 2016? For females? For both sexes?"
   ]
  },
  {
   "cell_type": "markdown",
   "metadata": {},
   "source": [
    "#### Answer 4. The average obesity percentages for Asia in 2016 are 27.5% for males, 39.4% for females, and 33.1% for both sexes. The average obesity percentages for Africa in 2016 are 18.1% for males, 48.2% for females, and 33.7% for both sexes. The average obesity percentages for Oceania in 2016 are 30.0% for males, 33.6% for females, and 33.3% for both sexes. The average obesity percentages for North America in 2016 are 25.1% for males, 41.4% for females, and 33.5% for both sexes. The average obesity percentages for South America in 2016 are 27.3% for males, 39.3% for females, and 33.5% for both sexes. The average obesity percentages for Europe in 2016 are 33.8% for males, 32.8% for females, and 33.4% for both sexes. "
   ]
  },
  {
   "cell_type": "code",
   "execution_count": 89,
   "metadata": {},
   "outputs": [
    {
     "data": {
      "text/plain": [
       "18.4304347826087"
      ]
     },
     "execution_count": 89,
     "metadata": {},
     "output_type": "execute_result"
    }
   ],
   "source": [
    "north_america_male"
   ]
  },
  {
   "cell_type": "code",
   "execution_count": 90,
   "metadata": {},
   "outputs": [
    {
     "data": {
      "text/plain": [
       "30.369565217391305"
      ]
     },
     "execution_count": 90,
     "metadata": {},
     "output_type": "execute_result"
    }
   ],
   "source": [
    "north_america_female"
   ]
  },
  {
   "cell_type": "code",
   "execution_count": 91,
   "metadata": {},
   "outputs": [
    {
     "data": {
      "text/plain": [
       "24.573913043478257"
      ]
     },
     "execution_count": 91,
     "metadata": {},
     "output_type": "execute_result"
    }
   ],
   "source": [
    "north_america_both"
   ]
  },
  {
   "cell_type": "code",
   "execution_count": 92,
   "metadata": {},
   "outputs": [
    {
     "data": {
      "text/plain": [
       "19.075"
      ]
     },
     "execution_count": 92,
     "metadata": {},
     "output_type": "execute_result"
    }
   ],
   "source": [
    "south_america_male"
   ]
  },
  {
   "cell_type": "code",
   "execution_count": 93,
   "metadata": {},
   "outputs": [
    {
     "data": {
      "text/plain": [
       "27.49166666666667"
      ]
     },
     "execution_count": 93,
     "metadata": {},
     "output_type": "execute_result"
    }
   ],
   "source": [
    "south_america_female"
   ]
  },
  {
   "cell_type": "code",
   "execution_count": 94,
   "metadata": {},
   "outputs": [
    {
     "data": {
      "text/plain": [
       "23.40833333333333"
      ]
     },
     "execution_count": 94,
     "metadata": {},
     "output_type": "execute_result"
    }
   ],
   "source": [
    "south_america_both"
   ]
  },
  {
   "cell_type": "code",
   "execution_count": 95,
   "metadata": {},
   "outputs": [
    {
     "data": {
      "text/plain": [
       "13.587499999999999"
      ]
     },
     "execution_count": 95,
     "metadata": {},
     "output_type": "execute_result"
    }
   ],
   "source": [
    "asia_male"
   ]
  },
  {
   "cell_type": "code",
   "execution_count": 96,
   "metadata": {},
   "outputs": [
    {
     "data": {
      "text/plain": [
       "19.441666666666663"
      ]
     },
     "execution_count": 96,
     "metadata": {},
     "output_type": "execute_result"
    }
   ],
   "source": [
    "asia_female"
   ]
  },
  {
   "cell_type": "code",
   "execution_count": 97,
   "metadata": {},
   "outputs": [
    {
     "data": {
      "text/plain": [
       "16.372916666666672"
      ]
     },
     "execution_count": 97,
     "metadata": {},
     "output_type": "execute_result"
    }
   ],
   "source": [
    "asia_both"
   ]
  },
  {
   "cell_type": "code",
   "execution_count": 98,
   "metadata": {},
   "outputs": [
    {
     "data": {
      "text/plain": [
       "6.3037735849056595"
      ]
     },
     "execution_count": 98,
     "metadata": {},
     "output_type": "execute_result"
    }
   ],
   "source": [
    "africa_male"
   ]
  },
  {
   "cell_type": "code",
   "execution_count": 99,
   "metadata": {},
   "outputs": [
    {
     "data": {
      "text/plain": [
       "16.747169811320756"
      ]
     },
     "execution_count": 99,
     "metadata": {},
     "output_type": "execute_result"
    }
   ],
   "source": [
    "africa_female"
   ]
  },
  {
   "cell_type": "code",
   "execution_count": 100,
   "metadata": {},
   "outputs": [
    {
     "data": {
      "text/plain": [
       "11.715094339622642"
      ]
     },
     "execution_count": 100,
     "metadata": {},
     "output_type": "execute_result"
    }
   ],
   "source": [
    "africa_both"
   ]
  },
  {
   "cell_type": "code",
   "execution_count": 101,
   "metadata": {},
   "outputs": [
    {
     "data": {
      "text/plain": [
       "37.862500000000004"
      ]
     },
     "execution_count": 101,
     "metadata": {},
     "output_type": "execute_result"
    }
   ],
   "source": [
    "oceania_male"
   ]
  },
  {
   "cell_type": "code",
   "execution_count": 102,
   "metadata": {},
   "outputs": [
    {
     "data": {
      "text/plain": [
       "46.212500000000006"
      ]
     },
     "execution_count": 102,
     "metadata": {},
     "output_type": "execute_result"
    }
   ],
   "source": [
    "oceania_female"
   ]
  },
  {
   "cell_type": "code",
   "execution_count": 103,
   "metadata": {},
   "outputs": [
    {
     "data": {
      "text/plain": [
       "42.06250000000001"
      ]
     },
     "execution_count": 103,
     "metadata": {},
     "output_type": "execute_result"
    }
   ],
   "source": [
    "oceania_both"
   ]
  },
  {
   "cell_type": "code",
   "execution_count": 104,
   "metadata": {},
   "outputs": [
    {
     "data": {
      "text/plain": [
       "22.96666666666667"
      ]
     },
     "execution_count": 104,
     "metadata": {},
     "output_type": "execute_result"
    }
   ],
   "source": [
    "europe_male"
   ]
  },
  {
   "cell_type": "code",
   "execution_count": 105,
   "metadata": {},
   "outputs": [
    {
     "data": {
      "text/plain": [
       "22.341025641025645"
      ]
     },
     "execution_count": 105,
     "metadata": {},
     "output_type": "execute_result"
    }
   ],
   "source": [
    "europe_female"
   ]
  },
  {
   "cell_type": "code",
   "execution_count": 106,
   "metadata": {},
   "outputs": [
    {
     "data": {
      "text/plain": [
       "22.73333333333333"
      ]
     },
     "execution_count": 106,
     "metadata": {},
     "output_type": "execute_result"
    }
   ],
   "source": [
    "europe_both"
   ]
  },
  {
   "cell_type": "code",
   "execution_count": 107,
   "metadata": {},
   "outputs": [
    {
     "data": {
      "image/png": "[encoded data removed]",
      "text/plain": [
       "<Figure size 432x288 with 1 Axes>"
      ]
     },
     "metadata": {},
     "output_type": "display_data"
    },
    {
     "data": {
      "image/png": "[encoded data removed]",
      "text/plain": [
       "<Figure size 432x288 with 1 Axes>"
      ]
     },
     "metadata": {},
     "output_type": "display_data"
    },
    {
     "data": {
      "image/png": "[encoded data removed]",
      "text/plain": [
       "<Figure size 432x288 with 1 Axes>"
      ]
     },
     "metadata": {},
     "output_type": "display_data"
    },
    {
     "data": {
      "image/png": "[encoded data removed]",
      "text/plain": [
       "<Figure size 432x288 with 1 Axes>"
      ]
     },
     "metadata": {},
     "output_type": "display_data"
    },
    {
     "data": {
      "image/png": "[encoded data removed]",
      "text/plain": [
       "<Figure size 432x288 with 1 Axes>"
      ]
     },
     "metadata": {},
     "output_type": "display_data"
    },
    {
     "data": {
      "image/png": "[encoded data removed]",
      "text/plain": [
       "<Figure size 432x288 with 1 Axes>"
      ]
     },
     "metadata": {},
     "output_type": "display_data"
    }
   ],
   "source": [
    "# Pie charts showing average obesity percentages by continent and by sex in 2016\n",
    "plt.figure(0)\n",
    "plt.pie([asia_male, asia_female, asia_both], explode = [0, 0.1, 0], colors = ['blue', 'red', 'green'], autopct = '%1.1f%%', shadow = True, labels = ['Male', 'Female', 'Both Sexes'])\n",
    "plt.axis('equal')\n",
    "plt.title('Average Obesity Percentages in Asia in 2016')\n",
    "plt.figure(1)\n",
    "plt.pie([africa_male, africa_female, africa_both], explode = [0, 0.1, 0], colors = ['blue', 'red', 'green'], autopct = '%1.1f%%', shadow = True, labels = ['Male', 'Female', 'Both Sexes'])\n",
    "plt.axis('equal')\n",
    "plt.title('Average Obesity Percentages in Africa in 2016')\n",
    "plt.figure(2)\n",
    "plt.pie([oceania_male, oceania_female, oceania_both], explode = [0, 0.1, 0], colors = ['blue', 'red', 'green'], autopct = '%1.1f%%', shadow = True, labels = ['Male', 'Female', 'Both Sexes'])\n",
    "plt.axis('equal')\n",
    "plt.title('Average Obesity Percentages in Oceania in 2016')\n",
    "plt.figure(3)\n",
    "plt.pie([north_america_male, north_america_female, north_america_both], explode = [0, 0.1, 0], colors = ['blue', 'red', 'green'], autopct = '%1.1f%%', shadow = True, labels = ['Male', 'Female', 'Both Sexes'])\n",
    "plt.axis('equal')\n",
    "plt.title('Average Obesity Percentages in North America in 2016')\n",
    "plt.figure(4)\n",
    "plt.pie([south_america_male, south_america_female, south_america_both], explode = [0, 0.1, 0], colors = ['blue', 'red', 'green'], autopct = '%1.1f%%', shadow = True, labels = ['Male', 'Female', 'Both Sexes'])\n",
    "plt.axis('equal')\n",
    "plt.title('Average Obesity Percentages in South America in 2016')\n",
    "plt.figure(5)\n",
    "plt.pie([europe_male, europe_female, europe_both], explode = [0.1, 0, 0], colors = ['blue', 'red', 'green'], autopct = '%1.1f%%', shadow = True, labels = ['Male', 'Female', 'Both Sexes'])\n",
    "plt.axis('equal')\n",
    "plt.title('Average Obesity Percentages in Europe in 2016')\n",
    "plt.show()"
   ]
  },
  {
   "cell_type": "markdown",
   "metadata": {},
   "source": [
    "#### The above pie charts show the average obesity percentages for each continent and for each sex in 2016. The average obesity percentages for Asia in 2016 are 27.5% for males, 39.4% for females, and 33.1% for both sexes. The average obesity percentages for Africa in 2016 are 18.1% for males, 48.2% for females, and 33.7% for both sexes. The average obesity percentages for Oceania in 2016 are 30.0% for males, 36.6% for females, and 33.3% for both sexes. The average obesity percentages for North America in 2016 are 25.1% for males, 41.4% for females, and 33.5% for both sexes. The average obesity percentages for South America in 2016 are 27.3% for males, 39.3% for females, and 33.5% for both sexes. The average obesity percentages for Europe in 2016 are 33.8% for males, 32.8% for females, and 33.4% for both sexes. "
   ]
  },
  {
   "cell_type": "code",
   "execution_count": 108,
   "metadata": {},
   "outputs": [
    {
     "data": {
      "image/png": "[encoded data removed]",
      "text/plain": [
       "<Figure size 432x288 with 1 Axes>"
      ]
     },
     "metadata": {},
     "output_type": "display_data"
    }
   ],
   "source": [
    "# Pie chart showing average obesity percentages by continent in 2016\n",
    "plt.pie([oceania, asia, africa, north_america, south_america, europe], explode = [0.1, 0, 0, 0.1, 0, 0], colors = ['orange', 'yellow', 'purple', 'blue', 'red', 'green'], autopct = '%1.1f%%', shadow = True, labels = ['Oceania', 'Asia', 'Africa', 'North America', 'South America', 'Europe'])\n",
    "plt.axis('equal')\n",
    "plt.title('Average Obesity Percentages By Continent in 2016')\n",
    "plt.show()"
   ]
  },
  {
   "cell_type": "markdown",
   "metadata": {},
   "source": [
    "#### The above pie chart shows the average obesity percentages in the world by continent in 2016. Oceania has the highest average obesity percentage in 2016 with 29.9% and Africa has the lowest average obesity percentage in 2016 with 8.2%. Asia has an average obesity percentage of 11.7% in 2016. Europe has an average obesity percentage of 16.1% in 2016. North America has an average obesity percentage of 17.4% in 2016. South America has an average obesity percentage of 16.6% in 2016."
   ]
  },
  {
   "cell_type": "markdown",
   "metadata": {},
   "source": [
    "### Question 5. From 1975 - 2016, what are the worldwide trends in obesity rates for males, females, and both sexes?"
   ]
  },
  {
   "cell_type": "markdown",
   "metadata": {},
   "source": [
    "#### Answer 5. The obesity percentages for males, for females, and for both sexes all increase from 1975 to 2016. The percentage starts at 4.08% and continues to increase until 16.44% for males. The percentage starts at 8.85% and continues to increase until 23.35% for females. The percentage starts at 6.51% and continues to increase until 19.96% for both sexes. "
   ]
  },
  {
   "cell_type": "code",
   "execution_count": 109,
   "metadata": {},
   "outputs": [],
   "source": [
    "# This is to label the years from 1975 to 2016 for males\n",
    "world_male_first = world_male[0:14]\n",
    "world_male_second = world_male[14:28]\n",
    "world_male_third = world_male[28:42]"
   ]
  },
  {
   "cell_type": "code",
   "execution_count": 110,
   "metadata": {},
   "outputs": [],
   "source": [
    "# This is to label the years from 1975 to 2016 for females\n",
    "world_female_first = world_female[0:14]\n",
    "world_female_second = world_female[14:28]\n",
    "world_female_third = world_female[28:42]"
   ]
  },
  {
   "cell_type": "code",
   "execution_count": 111,
   "metadata": {},
   "outputs": [],
   "source": [
    "# This is to label the years from 1975 to 2016 for both sexes\n",
    "world_both_first = world_both[0:14]\n",
    "world_both_second = world_both[14:28]\n",
    "world_both_third = world_both[28:42]"
   ]
  },
  {
   "cell_type": "code",
   "execution_count": 112,
   "metadata": {},
   "outputs": [
    {
     "data": {
      "image/png": "[encoded data removed]",
      "text/plain": [
       "<Figure size 432x288 with 1 Axes>"
      ]
     },
     "metadata": {},
     "output_type": "display_data"
    }
   ],
   "source": [
    "# This is to create and label the line chart \n",
    "years = ['1975', '1976', '1977', '1978', '1979', '1980', '1981', '1982', '1983', '1984', '1985', '1986', '1987', '1988']\n",
    "plt.plot(years, world_male_first, marker = 'o', markerfacecolor = 'blue', label = 'Male')\n",
    "plt.plot(years, world_female_first, marker = '', markerfacecolor = 'red', linestyle = 'dashed', label = 'Female')\n",
    "plt.plot(years, world_both_first, marker = '*', markerfacecolor = 'green', label = 'Both Sexes')\n",
    "plt.gca().spines[\"top\"].set_alpha(0.0)    \n",
    "plt.gca().spines[\"bottom\"].set_alpha(0.3)\n",
    "plt.gca().spines[\"right\"].set_alpha(0.0)    \n",
    "plt.gca().spines[\"left\"].set_alpha(0.3)\n",
    "plt.grid(axis = 'both', alpha = 0.3)\n",
    "plt.ylim(3.5, 13.0)\n",
    "plt.ylabel('Obesity Percentages (%)')\n",
    "plt.xlabel('Years')\n",
    "plt.title('Average Obesity Percentage For Each Sex From 1975 To 1988')\n",
    "plt.legend()\n",
    "plt.tight_layout()\n",
    "plt.show()"
   ]
  },
  {
   "cell_type": "markdown",
   "metadata": {},
   "source": [
    "#### The above line chart shows the average obesity percentages for each sex from 1975 to 1988. The line starts at 4.08% and continues to increase until 6.82% for males. The line starts at 8.85% and continues to increase until 12.74% for females. The line starts at 6.51% and continues to increase until 9.83% for both sexes. "
   ]
  },
  {
   "cell_type": "code",
   "execution_count": 113,
   "metadata": {},
   "outputs": [
    {
     "data": {
      "image/png": "[encoded data removed]",
      "text/plain": [
       "<Figure size 432x288 with 1 Axes>"
      ]
     },
     "metadata": {},
     "output_type": "display_data"
    }
   ],
   "source": [
    "# This is to create and label the line chart \n",
    "years = ['1989', '1990', '1991', '1992', '1993', '1994', '1995', '1996', '1997', '1998', '1999', '2000', '2001', '2002']\n",
    "plt.plot(years, world_male_second, marker = 'o', markerfacecolor = 'blue', label = 'Male')\n",
    "plt.plot(years, world_female_second, marker = '', markerfacecolor = 'red', linestyle = 'dashed', label = 'Female')\n",
    "plt.plot(years, world_both_second, marker = '*', markerfacecolor = 'green', label = 'Both Sexes')\n",
    "plt.gca().spines[\"top\"].set_alpha(0.0)    \n",
    "plt.gca().spines[\"bottom\"].set_alpha(0.3)\n",
    "plt.gca().spines[\"right\"].set_alpha(0.0)    \n",
    "plt.gca().spines[\"left\"].set_alpha(0.3)\n",
    "plt.grid(axis = 'both', alpha = 0.3)\n",
    "plt.ylim(6.5, 18.0)\n",
    "plt.ylabel('Obesity Percentages (%)')\n",
    "plt.xlabel('Years')\n",
    "plt.title('Average Obesity Percentage For Each Sex From 1989 To 2002')\n",
    "plt.legend()\n",
    "plt.tight_layout()\n",
    "plt.show()"
   ]
  },
  {
   "cell_type": "markdown",
   "metadata": {},
   "source": [
    "#### The above line chart shows the average obesity percentages for each sex from 1989 to 2002. The line starts at 7.08% and continues to increase until 10.89% for males. The line starts at 13.07% and continues to increase until 17.58% for females. The line starts at 10.11% and continues to increase until 14.28% for both sexes. "
   ]
  },
  {
   "cell_type": "code",
   "execution_count": 114,
   "metadata": {},
   "outputs": [
    {
     "data": {
      "image/png": "[encoded data removed]",
      "text/plain": [
       "<Figure size 432x288 with 1 Axes>"
      ]
     },
     "metadata": {},
     "output_type": "display_data"
    }
   ],
   "source": [
    "# This is to create and label the line chart \n",
    "years = ['2003', '2004', '2005', '2006', '2007', '2008', '2009', '2010', '2011', '2012', '2013', '2014', '2015', '2016']\n",
    "plt.plot(years, world_male_third, marker = 'o', markerfacecolor = 'blue', label = 'Male')\n",
    "plt.plot(years, world_female_third, marker = '', markerfacecolor = 'red', linestyle = 'dashed', label = 'Female')\n",
    "plt.plot(years, world_both_third, marker = '*', markerfacecolor = 'green', label = 'Both Sexes')\n",
    "plt.gca().spines[\"top\"].set_alpha(0.0)    \n",
    "plt.gca().spines[\"bottom\"].set_alpha(0.3)\n",
    "plt.gca().spines[\"right\"].set_alpha(0.0)    \n",
    "plt.gca().spines[\"left\"].set_alpha(0.3)\n",
    "plt.grid(axis = 'both', alpha = 0.3)\n",
    "plt.ylim(11.0, 24.0)\n",
    "plt.ylabel('Obesity Percentages (%)')\n",
    "plt.xlabel('Years')\n",
    "plt.title('Average Obesity Percentage For Each Sex From 2003 To 2016')\n",
    "plt.legend()\n",
    "plt.tight_layout()\n",
    "plt.show()"
   ]
  },
  {
   "cell_type": "markdown",
   "metadata": {},
   "source": [
    "#### The above line chart shows the average obesity percentages for each sex from 2003 to 2016. The line starts at 11.24% and continues to increase until 16.44% for males. The line starts at 17.95% and continues to increase until 23.35% for females. The line starts at 14.64% and continues to increase until 19.96% for both sexes. "
   ]
  }
 ],
 "metadata": {
  "kernelspec": {
   "display_name": "Python 3",
   "language": "python",
   "name": "python3"
  },
  "language_info": {
   "codemirror_mode": {
    "name": "ipython",
    "version": 3
   },
   "file_extension": ".py",
   "mimetype": "text/x-python",
   "name": "python",
   "nbconvert_exporter": "python",
   "pygments_lexer": "ipython3",
   "version": "3.7.5"
  }
 },
 "nbformat": 4,
 "nbformat_minor": 4
}
